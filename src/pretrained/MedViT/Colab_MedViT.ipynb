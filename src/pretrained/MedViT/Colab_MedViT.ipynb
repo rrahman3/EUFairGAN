{
  "cells": [
    {
      "cell_type": "code",
      "execution_count": 1,
      "metadata": {
        "colab": {
          "base_uri": "https://localhost:8080/"
        },
        "id": "nD9uOPEK65K0",
        "outputId": "dc9c2187-eb1c-4988-946f-925d904a878f"
      },
      "outputs": [
        {
          "name": "stdout",
          "output_type": "stream",
          "text": [
            "Thu May  4 22:41:05 2023       \n",
            "+-----------------------------------------------------------------------------+\n",
            "| NVIDIA-SMI 525.85.12    Driver Version: 525.85.12    CUDA Version: 12.0     |\n",
            "|-------------------------------+----------------------+----------------------+\n",
            "| GPU  Name        Persistence-M| Bus-Id        Disp.A | Volatile Uncorr. ECC |\n",
            "| Fan  Temp  Perf  Pwr:Usage/Cap|         Memory-Usage | GPU-Util  Compute M. |\n",
            "|                               |                      |               MIG M. |\n",
            "|===============================+======================+======================|\n",
            "|   0  Tesla T4            Off  | 00000000:00:04.0 Off |                    0 |\n",
            "| N/A   48C    P8     9W /  70W |      0MiB / 15360MiB |      0%      Default |\n",
            "|                               |                      |                  N/A |\n",
            "+-------------------------------+----------------------+----------------------+\n",
            "                                                                               \n",
            "+-----------------------------------------------------------------------------+\n",
            "| Processes:                                                                  |\n",
            "|  GPU   GI   CI        PID   Type   Process name                  GPU Memory |\n",
            "|        ID   ID                                                   Usage      |\n",
            "|=============================================================================|\n",
            "|  No running processes found                                                 |\n",
            "+-----------------------------------------------------------------------------+\n"
          ]
        }
      ],
      "source": [
        "!nvidia-smi"
      ]
    },
    {
      "cell_type": "code",
      "execution_count": 1,
      "metadata": {
        "colab": {
          "base_uri": "https://localhost:8080/"
        },
        "id": "9AwVn7yc7Soj",
        "outputId": "f4c09fbb-458f-4006-87f3-bef9fa1bd216"
      },
      "outputs": [
        {
          "name": "stdout",
          "output_type": "stream",
          "text": [
            "Cloning into 'MedViT'...\n",
            "remote: Enumerating objects: 34, done.\u001b[K\n",
            "remote: Counting objects: 100% (34/34), done.\u001b[K\n",
            "remote: Compressing objects: 100% (28/28), done.\u001b[K\n",
            "remote: Total 34 (delta 6), reused 0 (delta 0), pack-reused 0\u001b[K\n",
            "Unpacking objects: 100% (34/34), 756.87 KiB | 9.83 MiB/s, done.\n"
          ]
        }
      ],
      "source": [
        "!git clone https://github.com/Omid-Nejati/MedViT.git"
      ]
    },
    {
      "cell_type": "code",
      "execution_count": 2,
      "metadata": {
        "colab": {
          "base_uri": "https://localhost:8080/"
        },
        "id": "Y051lFG77tXO",
        "outputId": "cb4a4b64-c59d-4734-e1b6-bca56aa8a3f9"
      },
      "outputs": [
        {
          "name": "stdout",
          "output_type": "stream",
          "text": [
            "/content/MedViT\n"
          ]
        }
      ],
      "source": [
        "cd /content/MedViT"
      ]
    },
    {
      "cell_type": "code",
      "execution_count": 2,
      "metadata": {
        "id": "lgm5vmQp8i9h"
      },
      "outputs": [],
      "source": [
        "import os\n",
        "import sys\n",
        "import numpy as np\n",
        "import matplotlib.pyplot as plt\n",
        "%matplotlib inline\n",
        "\n",
        "import torch\n",
        "import torch.nn as nn\n",
        "import torch.optim as optim\n",
        "\n",
        "import torchvision.utils\n",
        "from torchvision import models\n",
        "import torchvision.datasets as dsets\n",
        "import torchvision.transforms as transforms\n",
        "from torchsummary import summary\n"
      ]
    },
    {
      "cell_type": "markdown",
      "metadata": {
        "id": "1ta2wQYk78Mg"
      },
      "source": [
        "##Model"
      ]
    },
    {
      "cell_type": "code",
      "execution_count": 4,
      "metadata": {
        "colab": {
          "base_uri": "https://localhost:8080/"
        },
        "id": "GmPD4BBg7708",
        "outputId": "5a398676-9227-48b5-d107-7d04ce76e206"
      },
      "outputs": [
        {
          "name": "stdout",
          "output_type": "stream",
          "text": [
            "Collecting timm\n",
            "  Downloading timm-1.0.11-py3-none-any.whl.metadata (48 kB)\n",
            "Requirement already satisfied: torch in c:\\users\\rrahman3\\appdata\\local\\programs\\python\\python312\\lib\\site-packages (from timm) (2.4.0)\n",
            "Requirement already satisfied: torchvision in c:\\users\\rrahman3\\appdata\\local\\programs\\python\\python312\\lib\\site-packages (from timm) (0.19.0)\n",
            "Requirement already satisfied: pyyaml in c:\\users\\rrahman3\\appdata\\local\\programs\\python\\python312\\lib\\site-packages (from timm) (6.0.2)\n",
            "Requirement already satisfied: huggingface_hub in c:\\users\\rrahman3\\appdata\\local\\programs\\python\\python312\\lib\\site-packages (from timm) (0.24.5)\n",
            "Collecting safetensors (from timm)\n",
            "  Downloading safetensors-0.4.5-cp312-none-win_amd64.whl.metadata (3.9 kB)\n",
            "Requirement already satisfied: filelock in c:\\users\\rrahman3\\appdata\\local\\programs\\python\\python312\\lib\\site-packages (from huggingface_hub->timm) (3.15.4)\n",
            "Requirement already satisfied: fsspec>=2023.5.0 in c:\\users\\rrahman3\\appdata\\local\\programs\\python\\python312\\lib\\site-packages (from huggingface_hub->timm) (2024.6.1)\n",
            "Requirement already satisfied: packaging>=20.9 in c:\\users\\rrahman3\\appdata\\roaming\\python\\python312\\site-packages (from huggingface_hub->timm) (24.1)\n",
            "Requirement already satisfied: requests in c:\\users\\rrahman3\\appdata\\local\\programs\\python\\python312\\lib\\site-packages (from huggingface_hub->timm) (2.32.3)\n",
            "Requirement already satisfied: tqdm>=4.42.1 in c:\\users\\rrahman3\\appdata\\local\\programs\\python\\python312\\lib\\site-packages (from huggingface_hub->timm) (4.66.5)\n",
            "Requirement already satisfied: typing-extensions>=3.7.4.3 in c:\\users\\rrahman3\\appdata\\local\\programs\\python\\python312\\lib\\site-packages (from huggingface_hub->timm) (4.12.2)\n",
            "Requirement already satisfied: sympy in c:\\users\\rrahman3\\appdata\\local\\programs\\python\\python312\\lib\\site-packages (from torch->timm) (1.13.2)\n",
            "Requirement already satisfied: networkx in c:\\users\\rrahman3\\appdata\\local\\programs\\python\\python312\\lib\\site-packages (from torch->timm) (3.3)\n",
            "Requirement already satisfied: jinja2 in c:\\users\\rrahman3\\appdata\\local\\programs\\python\\python312\\lib\\site-packages (from torch->timm) (3.1.4)\n",
            "Requirement already satisfied: setuptools in c:\\users\\rrahman3\\appdata\\local\\programs\\python\\python312\\lib\\site-packages (from torch->timm) (72.2.0)\n",
            "Requirement already satisfied: numpy<2 in c:\\users\\rrahman3\\appdata\\local\\programs\\python\\python312\\lib\\site-packages (from torchvision->timm) (1.26.4)\n",
            "Requirement already satisfied: pillow!=8.3.*,>=5.3.0 in c:\\users\\rrahman3\\appdata\\local\\programs\\python\\python312\\lib\\site-packages (from torchvision->timm) (10.4.0)\n",
            "Requirement already satisfied: colorama in c:\\users\\rrahman3\\appdata\\roaming\\python\\python312\\site-packages (from tqdm>=4.42.1->huggingface_hub->timm) (0.4.6)\n",
            "Requirement already satisfied: MarkupSafe>=2.0 in c:\\users\\rrahman3\\appdata\\local\\programs\\python\\python312\\lib\\site-packages (from jinja2->torch->timm) (2.1.5)\n",
            "Requirement already satisfied: charset-normalizer<4,>=2 in c:\\users\\rrahman3\\appdata\\local\\programs\\python\\python312\\lib\\site-packages (from requests->huggingface_hub->timm) (3.3.2)\n",
            "Requirement already satisfied: idna<4,>=2.5 in c:\\users\\rrahman3\\appdata\\local\\programs\\python\\python312\\lib\\site-packages (from requests->huggingface_hub->timm) (3.7)\n",
            "Requirement already satisfied: urllib3<3,>=1.21.1 in c:\\users\\rrahman3\\appdata\\local\\programs\\python\\python312\\lib\\site-packages (from requests->huggingface_hub->timm) (2.2.2)\n",
            "Requirement already satisfied: certifi>=2017.4.17 in c:\\users\\rrahman3\\appdata\\local\\programs\\python\\python312\\lib\\site-packages (from requests->huggingface_hub->timm) (2024.7.4)\n",
            "Requirement already satisfied: mpmath<1.4,>=1.1.0 in c:\\users\\rrahman3\\appdata\\local\\programs\\python\\python312\\lib\\site-packages (from sympy->torch->timm) (1.3.0)\n",
            "Downloading timm-1.0.11-py3-none-any.whl (2.3 MB)\n",
            "   ---------------------------------------- 0.0/2.3 MB ? eta -:--:--\n",
            "   ---------------------------------------- 0.0/2.3 MB ? eta -:--:--\n",
            "   ---- ----------------------------------- 0.3/2.3 MB ? eta -:--:--\n",
            "   ---- ----------------------------------- 0.3/2.3 MB ? eta -:--:--\n",
            "   ------------- -------------------------- 0.8/2.3 MB 1.3 MB/s eta 0:00:02\n",
            "   ------------------ --------------------- 1.0/2.3 MB 1.3 MB/s eta 0:00:01\n",
            "   ---------------------- ----------------- 1.3/2.3 MB 1.4 MB/s eta 0:00:01\n",
            "   ------------------------------- -------- 1.8/2.3 MB 1.5 MB/s eta 0:00:01\n",
            "   ------------------------------------ --- 2.1/2.3 MB 1.6 MB/s eta 0:00:01\n",
            "   ---------------------------------------- 2.3/2.3 MB 1.5 MB/s eta 0:00:00\n",
            "Downloading safetensors-0.4.5-cp312-none-win_amd64.whl (286 kB)\n",
            "Installing collected packages: safetensors, timm\n",
            "Successfully installed safetensors-0.4.5 timm-1.0.11\n",
            "Requirement already satisfied: einops in c:\\users\\rrahman3\\appdata\\local\\programs\\python\\python312\\lib\\site-packages (0.8.0)\n"
          ]
        }
      ],
      "source": [
        "!pip install timm\n",
        "!pip install einops"
      ]
    },
    {
      "cell_type": "code",
      "execution_count": 33,
      "metadata": {
        "id": "GEQ5S3_U8E0j"
      },
      "outputs": [],
      "source": [
        "from MedViT import MedViT_small as tiny"
      ]
    },
    {
      "cell_type": "code",
      "execution_count": 34,
      "metadata": {
        "colab": {
          "base_uri": "https://localhost:8080/"
        },
        "id": "JKcyvB0Y8RsK",
        "outputId": "f8536371-3cd2-4924-e674-af4bf44c980b"
      },
      "outputs": [
        {
          "name": "stdout",
          "output_type": "stream",
          "text": [
            "initialize_weights...\n"
          ]
        }
      ],
      "source": [
        "model = tiny()"
      ]
    },
    {
      "cell_type": "code",
      "execution_count": 35,
      "metadata": {
        "colab": {
          "base_uri": "https://localhost:8080/"
        },
        "id": "35YD-2Ul8aaV",
        "outputId": "8960c453-22fd-4298-8c91-75e9697c0412"
      },
      "outputs": [
        {
          "data": {
            "text/plain": [
              "Linear(in_features=1024, out_features=1000, bias=True)"
            ]
          },
          "execution_count": 35,
          "metadata": {},
          "output_type": "execute_result"
        }
      ],
      "source": [
        "model.proj_head[0]"
      ]
    },
    {
      "cell_type": "code",
      "execution_count": 36,
      "metadata": {
        "id": "0RE8qlwf8ZV5"
      },
      "outputs": [],
      "source": [
        "model.proj_head[0] = torch.nn.Linear(in_features=1024, out_features=14, bias=True)"
      ]
    },
    {
      "cell_type": "code",
      "execution_count": 9,
      "metadata": {
        "id": "dFXm96Gi8g7u"
      },
      "outputs": [],
      "source": [
        "model = model.cuda()"
      ]
    },
    {
      "cell_type": "markdown",
      "metadata": {
        "id": "nIefIFDW80-U"
      },
      "source": [
        "##Dataset"
      ]
    },
    {
      "cell_type": "code",
      "execution_count": 9,
      "metadata": {
        "colab": {
          "base_uri": "https://localhost:8080/"
        },
        "id": "6yVawz1S84b3",
        "outputId": "c6354da3-c3d1-4131-f671-51313faefb01"
      },
      "outputs": [
        {
          "name": "stdout",
          "output_type": "stream",
          "text": [
            "Collecting medmnist\n",
            "  Downloading medmnist-3.0.2-py3-none-any.whl.metadata (14 kB)\n",
            "Requirement already satisfied: numpy in c:\\users\\rrahman3\\appdata\\local\\programs\\python\\python312\\lib\\site-packages (from medmnist) (1.26.4)\n",
            "Requirement already satisfied: pandas in c:\\users\\rrahman3\\appdata\\local\\programs\\python\\python312\\lib\\site-packages (from medmnist) (2.2.2)\n",
            "Requirement already satisfied: scikit-learn in c:\\users\\rrahman3\\appdata\\local\\programs\\python\\python312\\lib\\site-packages (from medmnist) (1.5.1)\n",
            "Requirement already satisfied: scikit-image in c:\\users\\rrahman3\\appdata\\local\\programs\\python\\python312\\lib\\site-packages (from medmnist) (0.24.0)\n",
            "Requirement already satisfied: tqdm in c:\\users\\rrahman3\\appdata\\local\\programs\\python\\python312\\lib\\site-packages (from medmnist) (4.66.5)\n",
            "Requirement already satisfied: Pillow in c:\\users\\rrahman3\\appdata\\local\\programs\\python\\python312\\lib\\site-packages (from medmnist) (10.4.0)\n",
            "Collecting fire (from medmnist)\n",
            "  Downloading fire-0.7.0.tar.gz (87 kB)\n",
            "  Preparing metadata (setup.py): started\n",
            "  Preparing metadata (setup.py): finished with status 'done'\n",
            "Requirement already satisfied: torch in c:\\users\\rrahman3\\appdata\\local\\programs\\python\\python312\\lib\\site-packages (from medmnist) (2.4.0)\n",
            "Requirement already satisfied: torchvision in c:\\users\\rrahman3\\appdata\\local\\programs\\python\\python312\\lib\\site-packages (from medmnist) (0.19.0)\n",
            "Requirement already satisfied: termcolor in c:\\users\\rrahman3\\appdata\\local\\programs\\python\\python312\\lib\\site-packages (from fire->medmnist) (2.4.0)\n",
            "Requirement already satisfied: python-dateutil>=2.8.2 in c:\\users\\rrahman3\\appdata\\roaming\\python\\python312\\site-packages (from pandas->medmnist) (2.9.0.post0)\n",
            "Requirement already satisfied: pytz>=2020.1 in c:\\users\\rrahman3\\appdata\\local\\programs\\python\\python312\\lib\\site-packages (from pandas->medmnist) (2024.1)\n",
            "Requirement already satisfied: tzdata>=2022.7 in c:\\users\\rrahman3\\appdata\\local\\programs\\python\\python312\\lib\\site-packages (from pandas->medmnist) (2024.1)\n",
            "Requirement already satisfied: scipy>=1.9 in c:\\users\\rrahman3\\appdata\\local\\programs\\python\\python312\\lib\\site-packages (from scikit-image->medmnist) (1.14.0)\n",
            "Requirement already satisfied: networkx>=2.8 in c:\\users\\rrahman3\\appdata\\local\\programs\\python\\python312\\lib\\site-packages (from scikit-image->medmnist) (3.3)\n",
            "Requirement already satisfied: imageio>=2.33 in c:\\users\\rrahman3\\appdata\\local\\programs\\python\\python312\\lib\\site-packages (from scikit-image->medmnist) (2.35.1)\n",
            "Requirement already satisfied: tifffile>=2022.8.12 in c:\\users\\rrahman3\\appdata\\local\\programs\\python\\python312\\lib\\site-packages (from scikit-image->medmnist) (2024.9.20)\n",
            "Requirement already satisfied: packaging>=21 in c:\\users\\rrahman3\\appdata\\roaming\\python\\python312\\site-packages (from scikit-image->medmnist) (24.1)\n",
            "Requirement already satisfied: lazy-loader>=0.4 in c:\\users\\rrahman3\\appdata\\local\\programs\\python\\python312\\lib\\site-packages (from scikit-image->medmnist) (0.4)\n",
            "Requirement already satisfied: joblib>=1.2.0 in c:\\users\\rrahman3\\appdata\\local\\programs\\python\\python312\\lib\\site-packages (from scikit-learn->medmnist) (1.4.2)\n",
            "Requirement already satisfied: threadpoolctl>=3.1.0 in c:\\users\\rrahman3\\appdata\\local\\programs\\python\\python312\\lib\\site-packages (from scikit-learn->medmnist) (3.5.0)\n",
            "Requirement already satisfied: filelock in c:\\users\\rrahman3\\appdata\\local\\programs\\python\\python312\\lib\\site-packages (from torch->medmnist) (3.15.4)\n",
            "Requirement already satisfied: typing-extensions>=4.8.0 in c:\\users\\rrahman3\\appdata\\local\\programs\\python\\python312\\lib\\site-packages (from torch->medmnist) (4.12.2)\n",
            "Requirement already satisfied: sympy in c:\\users\\rrahman3\\appdata\\local\\programs\\python\\python312\\lib\\site-packages (from torch->medmnist) (1.13.2)\n",
            "Requirement already satisfied: jinja2 in c:\\users\\rrahman3\\appdata\\local\\programs\\python\\python312\\lib\\site-packages (from torch->medmnist) (3.1.4)\n",
            "Requirement already satisfied: fsspec in c:\\users\\rrahman3\\appdata\\local\\programs\\python\\python312\\lib\\site-packages (from torch->medmnist) (2024.6.1)\n",
            "Requirement already satisfied: setuptools in c:\\users\\rrahman3\\appdata\\local\\programs\\python\\python312\\lib\\site-packages (from torch->medmnist) (72.2.0)\n",
            "Requirement already satisfied: colorama in c:\\users\\rrahman3\\appdata\\roaming\\python\\python312\\site-packages (from tqdm->medmnist) (0.4.6)\n",
            "Requirement already satisfied: six>=1.5 in c:\\users\\rrahman3\\appdata\\roaming\\python\\python312\\site-packages (from python-dateutil>=2.8.2->pandas->medmnist) (1.16.0)\n",
            "Requirement already satisfied: MarkupSafe>=2.0 in c:\\users\\rrahman3\\appdata\\local\\programs\\python\\python312\\lib\\site-packages (from jinja2->torch->medmnist) (2.1.5)\n",
            "Requirement already satisfied: mpmath<1.4,>=1.1.0 in c:\\users\\rrahman3\\appdata\\local\\programs\\python\\python312\\lib\\site-packages (from sympy->torch->medmnist) (1.3.0)\n",
            "Downloading medmnist-3.0.2-py3-none-any.whl (25 kB)\n",
            "Building wheels for collected packages: fire\n",
            "  Building wheel for fire (setup.py): started\n",
            "  Building wheel for fire (setup.py): finished with status 'done'\n",
            "  Created wheel for fire: filename=fire-0.7.0-py3-none-any.whl size=114263 sha256=d2cfebe274982f4ca8e5c7dfd2e9e694fa92fb984c192f4260bcf97cbaf6812f\n",
            "  Stored in directory: c:\\users\\rrahman3\\appdata\\local\\pip\\cache\\wheels\\9e\\5b\\45\\29f72e55d87a29426b04b3cfdf20325c079eb97ab74f59017d\n",
            "Successfully built fire\n",
            "Installing collected packages: fire, medmnist\n",
            "Successfully installed fire-0.7.0 medmnist-3.0.2\n"
          ]
        }
      ],
      "source": [
        "!pip install medmnist"
      ]
    },
    {
      "cell_type": "code",
      "execution_count": 10,
      "metadata": {
        "id": "ChBhSTxK87hc"
      },
      "outputs": [],
      "source": [
        "from tqdm import tqdm\n",
        "import numpy as np\n",
        "import torch\n",
        "import torch.nn as nn\n",
        "import torch.optim as optim\n",
        "import torch.utils.data as data\n",
        "import torchvision.transforms as transforms\n",
        "\n",
        "import medmnist\n",
        "from medmnist import INFO, Evaluator"
      ]
    },
    {
      "cell_type": "code",
      "execution_count": 28,
      "metadata": {
        "id": "rH1INOxS8-iM"
      },
      "outputs": [],
      "source": [
        "data_flag = 'breastmnist'\n",
        "data_flag = 'chestmnist'\n",
        "# [tissuemnist, pathmnist, chestmnist, dermamnist, octmnist, \n",
        "# pnemoniamnist, retinamnist, breastmnist, bloodmnist, tissuemnist, organamnist, organcmnist, organsmnist]\n",
        "download = True\n",
        "\n",
        "NUM_EPOCHS = 10\n",
        "BATCH_SIZE = 10\n",
        "lr = 0.005\n",
        "\n",
        "info = INFO[data_flag]\n",
        "task = info['task']\n",
        "n_channels = info['n_channels']\n",
        "n_classes = len(info['label'])\n",
        "\n",
        "DataClass = getattr(medmnist, info['python_class'])"
      ]
    },
    {
      "cell_type": "code",
      "execution_count": 37,
      "metadata": {},
      "outputs": [
        {
          "data": {
            "text/plain": [
              "{'python_class': 'ChestMNIST',\n",
              " 'description': 'The ChestMNIST is based on the NIH-ChestXray14 dataset, a dataset comprising 112,120 frontal-view X-Ray images of 30,805 unique patients with the text-mined 14 disease labels, which could be formulized as a multi-label binary-class classification task. We use the official data split, and resize the source images of 1×1024×1024 into 1×28×28.',\n",
              " 'url': 'https://zenodo.org/records/10519652/files/chestmnist.npz?download=1',\n",
              " 'MD5': '02c8a6516a18b556561a56cbdd36c4a8',\n",
              " 'url_64': 'https://zenodo.org/records/10519652/files/chestmnist_64.npz?download=1',\n",
              " 'MD5_64': '9de6cd0b934ebb5b7426cfba5efbae16',\n",
              " 'url_128': 'https://zenodo.org/records/10519652/files/chestmnist_128.npz?download=1',\n",
              " 'MD5_128': 'db107e5590b27930b62dbaf558aebee3',\n",
              " 'url_224': 'https://zenodo.org/records/10519652/files/chestmnist_224.npz?download=1',\n",
              " 'MD5_224': '45bd33e6f06c3e8cdb481c74a89152aa',\n",
              " 'task': 'multi-label, binary-class',\n",
              " 'label': {'0': 'atelectasis',\n",
              "  '1': 'cardiomegaly',\n",
              "  '2': 'effusion',\n",
              "  '3': 'infiltration',\n",
              "  '4': 'mass',\n",
              "  '5': 'nodule',\n",
              "  '6': 'pneumonia',\n",
              "  '7': 'pneumothorax',\n",
              "  '8': 'consolidation',\n",
              "  '9': 'edema',\n",
              "  '10': 'emphysema',\n",
              "  '11': 'fibrosis',\n",
              "  '12': 'pleural',\n",
              "  '13': 'hernia'},\n",
              " 'n_channels': 1,\n",
              " 'n_samples': {'train': 78468, 'val': 11219, 'test': 22433},\n",
              " 'license': 'CC BY 4.0'}"
            ]
          },
          "execution_count": 37,
          "metadata": {},
          "output_type": "execute_result"
        }
      ],
      "source": [
        "info"
      ]
    },
    {
      "cell_type": "code",
      "execution_count": 29,
      "metadata": {
        "colab": {
          "base_uri": "https://localhost:8080/"
        },
        "id": "TD22o8uW9L1X",
        "outputId": "b47e6cdc-dd42-4b91-8574-db868c638fea"
      },
      "outputs": [
        {
          "name": "stdout",
          "output_type": "stream",
          "text": [
            "Downloading https://zenodo.org/records/10519652/files/chestmnist.npz?download=1 to C:\\Users\\rrahman3\\.medmnist\\chestmnist.npz\n"
          ]
        },
        {
          "name": "stderr",
          "output_type": "stream",
          "text": [
            "100%|██████████| 82802576/82802576 [00:22<00:00, 3711103.31it/s] \n"
          ]
        },
        {
          "name": "stdout",
          "output_type": "stream",
          "text": [
            "Using downloaded and verified file: C:\\Users\\rrahman3\\.medmnist\\chestmnist.npz\n"
          ]
        }
      ],
      "source": [
        "from torchvision.transforms.transforms import Resize\n",
        "# preprocessing\n",
        "train_transform = transforms.Compose([\n",
        "    transforms.Resize(224),\n",
        "    transforms.Lambda(lambda image: image.convert('RGB')),\n",
        "    torchvision.transforms.AugMix(),\n",
        "    transforms.ToTensor(),\n",
        "    transforms.Normalize(mean=[.5], std=[.5])\n",
        "])\n",
        "test_transform = transforms.Compose([\n",
        "    transforms.Resize(224),\n",
        "    transforms.Lambda(lambda image: image.convert('RGB')),\n",
        "    transforms.ToTensor(),\n",
        "    transforms.Normalize(mean=[.5], std=[.5])\n",
        "])\n",
        "\n",
        "# load the data\n",
        "train_dataset = DataClass(split='train', transform=train_transform, download=download)\n",
        "test_dataset = DataClass(split='test', transform=test_transform, download=download)\n",
        "\n",
        "# pil_dataset = DataClass(split='train', download=download)\n",
        "\n",
        "# encapsulate data into dataloader form\n",
        "train_loader = data.DataLoader(dataset=train_dataset, batch_size=BATCH_SIZE, shuffle=True)\n",
        "train_loader_at_eval = data.DataLoader(dataset=train_dataset, batch_size=2*BATCH_SIZE, shuffle=False)\n",
        "test_loader = data.DataLoader(dataset=test_dataset, batch_size=2*BATCH_SIZE, shuffle=False)"
      ]
    },
    {
      "cell_type": "code",
      "execution_count": 30,
      "metadata": {
        "colab": {
          "base_uri": "https://localhost:8080/"
        },
        "id": "eNjqCTnI9T9w",
        "outputId": "dd0aff61-737b-457f-a627-94b9a0fa8d51"
      },
      "outputs": [
        {
          "name": "stdout",
          "output_type": "stream",
          "text": [
            "Dataset ChestMNIST of size 28 (chestmnist)\n",
            "    Number of datapoints: 78468\n",
            "    Root location: C:\\Users\\rrahman3\\.medmnist\n",
            "    Split: train\n",
            "    Task: multi-label, binary-class\n",
            "    Number of channels: 1\n",
            "    Meaning of labels: {'0': 'atelectasis', '1': 'cardiomegaly', '2': 'effusion', '3': 'infiltration', '4': 'mass', '5': 'nodule', '6': 'pneumonia', '7': 'pneumothorax', '8': 'consolidation', '9': 'edema', '10': 'emphysema', '11': 'fibrosis', '12': 'pleural', '13': 'hernia'}\n",
            "    Number of samples: {'train': 78468, 'val': 11219, 'test': 22433}\n",
            "    Description: The ChestMNIST is based on the NIH-ChestXray14 dataset, a dataset comprising 112,120 frontal-view X-Ray images of 30,805 unique patients with the text-mined 14 disease labels, which could be formulized as a multi-label binary-class classification task. We use the official data split, and resize the source images of 1×1024×1024 into 1×28×28.\n",
            "    License: CC BY 4.0\n",
            "===================\n",
            "Dataset ChestMNIST of size 28 (chestmnist)\n",
            "    Number of datapoints: 22433\n",
            "    Root location: C:\\Users\\rrahman3\\.medmnist\n",
            "    Split: test\n",
            "    Task: multi-label, binary-class\n",
            "    Number of channels: 1\n",
            "    Meaning of labels: {'0': 'atelectasis', '1': 'cardiomegaly', '2': 'effusion', '3': 'infiltration', '4': 'mass', '5': 'nodule', '6': 'pneumonia', '7': 'pneumothorax', '8': 'consolidation', '9': 'edema', '10': 'emphysema', '11': 'fibrosis', '12': 'pleural', '13': 'hernia'}\n",
            "    Number of samples: {'train': 78468, 'val': 11219, 'test': 22433}\n",
            "    Description: The ChestMNIST is based on the NIH-ChestXray14 dataset, a dataset comprising 112,120 frontal-view X-Ray images of 30,805 unique patients with the text-mined 14 disease labels, which could be formulized as a multi-label binary-class classification task. We use the official data split, and resize the source images of 1×1024×1024 into 1×28×28.\n",
            "    License: CC BY 4.0\n"
          ]
        }
      ],
      "source": [
        "print(train_dataset)\n",
        "print(\"===================\")\n",
        "print(test_dataset)"
      ]
    },
    {
      "cell_type": "code",
      "execution_count": 32,
      "metadata": {},
      "outputs": [
        {
          "name": "stdout",
          "output_type": "stream",
          "text": [
            "torch.Size([10, 3, 224, 224]) torch.Size([10, 14])\n",
            "(224, 224, 3)\n"
          ]
        }
      ],
      "source": [
        "from PIL import Image\n",
        "for x, y in train_loader:\n",
        "    # print(x, y)\n",
        "    print(x.shape, y.shape)\n",
        "    output_numpy = x[0].permute(1, 2, 0).cpu().numpy()  # Convert from (C, H, W) to (H, W, C)\n",
        "\n",
        "    # Convert the NumPy array to an image (ensure the values are in [0, 255] for uint8 type)\n",
        "    # output_image = Image.fromarray((output_numpy * 255).astype('uint8'))\n",
        "    # obj = obj.transpose((0, 2, 3, 1))\n",
        "    output_numpy = np.clip(((output_numpy + 1) / 2.0) * 256, 0, 255)\n",
        "\n",
        "    # Show the image\n",
        "    print(output_numpy.shape)\n",
        "    output_numpy = np.asarray(np.uint8(output_numpy), dtype=np.uint8)\n",
        "    output_image = Image.fromarray(output_numpy, mode=\"RGB\")\n",
        "    output_image.show()\n",
        "    break"
      ]
    },
    {
      "cell_type": "markdown",
      "metadata": {
        "id": "g-ImKp2m9cLf"
      },
      "source": [
        "## Train"
      ]
    },
    {
      "cell_type": "code",
      "execution_count": 38,
      "metadata": {
        "id": "gMy_aJrE9eeM"
      },
      "outputs": [],
      "source": [
        "# define loss function and optimizer\n",
        "if task == \"multi-label, binary-class\":\n",
        "    criterion = nn.BCEWithLogitsLoss()\n",
        "else:\n",
        "    criterion = nn.CrossEntropyLoss()\n",
        "    \n",
        "optimizer = optim.SGD(model.parameters(), lr=lr, momentum=0.9)"
      ]
    },
    {
      "cell_type": "code",
      "execution_count": 16,
      "metadata": {
        "colab": {
          "base_uri": "https://localhost:8080/"
        },
        "id": "KmIo3JWf9lEs",
        "outputId": "822ffbe4-b700-450b-adcc-777a69286208"
      },
      "outputs": [
        {
          "name": "stdout",
          "output_type": "stream",
          "text": [
            "Epoch [1/10]\n"
          ]
        },
        {
          "name": "stderr",
          "output_type": "stream",
          "text": [
            "  1%|▏         | 113/7847 [1:03:15<72:47:21, 33.88s/it]"
          ]
        }
      ],
      "source": [
        "# train\n",
        "\n",
        "for epoch in range(NUM_EPOCHS):\n",
        "    train_correct = 0\n",
        "    train_total = 0\n",
        "    test_correct = 0\n",
        "    test_total = 0\n",
        "    print('Epoch [%d/%d]'% (epoch+1, NUM_EPOCHS))\n",
        "    model.train()\n",
        "    for inputs, targets in tqdm(train_loader):\n",
        "        # inputs, targets = inputs.cuda(), targets.cuda()\n",
        "        # forward + backward + optimize\n",
        "        optimizer.zero_grad()\n",
        "        outputs = model(inputs)\n",
        "        \n",
        "        if task == 'multi-label, binary-class':\n",
        "            targets = targets.to(torch.float32)\n",
        "            loss = criterion(outputs, targets)\n",
        "        else:\n",
        "            targets = targets.squeeze().long()\n",
        "            loss = criterion(outputs, targets)\n",
        "        \n",
        "        loss.backward()\n",
        "        optimizer.step()"
      ]
    },
    {
      "cell_type": "markdown",
      "metadata": {
        "id": "XRkfM6CM91j8"
      },
      "source": [
        "##Test"
      ]
    },
    {
      "cell_type": "code",
      "execution_count": 20,
      "metadata": {
        "colab": {
          "base_uri": "https://localhost:8080/"
        },
        "id": "TCSBTpUy93r-",
        "outputId": "e96ed88d-cab0-4c48-824d-5e210185f803"
      },
      "outputs": [
        {
          "name": "stdout",
          "output_type": "stream",
          "text": [
            "==> Evaluating ...\n",
            "train  auc: 0.839  acc:0.661\n",
            "test  auc: 0.788  acc:0.654\n"
          ]
        }
      ],
      "source": [
        "# evaluation\n",
        "\n",
        "def test(split):\n",
        "    model.eval()\n",
        "    y_true = torch.tensor([])\n",
        "    y_score = torch.tensor([])\n",
        "    \n",
        "    data_loader = train_loader_at_eval if split == 'train' else test_loader\n",
        "\n",
        "    with torch.no_grad():\n",
        "        for inputs, targets in data_loader:\n",
        "            # inputs, targets = inputs.cuda(), targets.cuda()\n",
        "            outputs = model(inputs)\n",
        "\n",
        "            if task == 'multi-label, binary-class':\n",
        "                targets = targets.to(torch.float32)\n",
        "                outputs = outputs.softmax(dim=-1)\n",
        "            else:\n",
        "                targets = targets.squeeze().long()\n",
        "                outputs = outputs.softmax(dim=-1)\n",
        "                targets = targets.float().resize_(len(targets), 1)\n",
        "\n",
        "            y_true = torch.cat((y_true, targets), 0)\n",
        "            y_score = torch.cat((y_score, outputs), 0)\n",
        "\n",
        "        y_true = y_true.cpu().numpy()\n",
        "        y_score = y_score.detach().cpu().numpy()\n",
        "        \n",
        "        evaluator = Evaluator(data_flag, split)\n",
        "        metrics = evaluator.evaluate(y_score)\n",
        "    \n",
        "        print('%s  auc: %.3f  acc:%.3f' % (split, *metrics))\n",
        "\n",
        "        \n",
        "print('==> Evaluating ...')\n",
        "test('train')\n",
        "test('test')"
      ]
    },
    {
      "cell_type": "code",
      "execution_count": null,
      "metadata": {},
      "outputs": [],
      "source": []
    }
  ],
  "metadata": {
    "accelerator": "GPU",
    "colab": {
      "gpuType": "T4",
      "provenance": []
    },
    "gpuClass": "standard",
    "kernelspec": {
      "display_name": "Python 3",
      "name": "python3"
    },
    "language_info": {
      "codemirror_mode": {
        "name": "ipython",
        "version": 3
      },
      "file_extension": ".py",
      "mimetype": "text/x-python",
      "name": "python",
      "nbconvert_exporter": "python",
      "pygments_lexer": "ipython3",
      "version": "3.12.5"
    }
  },
  "nbformat": 4,
  "nbformat_minor": 0
}
