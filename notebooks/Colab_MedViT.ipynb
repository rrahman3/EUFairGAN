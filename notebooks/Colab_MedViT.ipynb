{
  "cells": [
    {
      "cell_type": "code",
      "execution_count": 1,
      "metadata": {
        "colab": {
          "base_uri": "https://localhost:8080/"
        },
        "id": "nD9uOPEK65K0",
        "outputId": "dc9c2187-eb1c-4988-946f-925d904a878f"
      },
      "outputs": [
        {
          "name": "stdout",
          "output_type": "stream",
          "text": [
            "Thu May  4 22:41:05 2023       \n",
            "+-----------------------------------------------------------------------------+\n",
            "| NVIDIA-SMI 525.85.12    Driver Version: 525.85.12    CUDA Version: 12.0     |\n",
            "|-------------------------------+----------------------+----------------------+\n",
            "| GPU  Name        Persistence-M| Bus-Id        Disp.A | Volatile Uncorr. ECC |\n",
            "| Fan  Temp  Perf  Pwr:Usage/Cap|         Memory-Usage | GPU-Util  Compute M. |\n",
            "|                               |                      |               MIG M. |\n",
            "|===============================+======================+======================|\n",
            "|   0  Tesla T4            Off  | 00000000:00:04.0 Off |                    0 |\n",
            "| N/A   48C    P8     9W /  70W |      0MiB / 15360MiB |      0%      Default |\n",
            "|                               |                      |                  N/A |\n",
            "+-------------------------------+----------------------+----------------------+\n",
            "                                                                               \n",
            "+-----------------------------------------------------------------------------+\n",
            "| Processes:                                                                  |\n",
            "|  GPU   GI   CI        PID   Type   Process name                  GPU Memory |\n",
            "|        ID   ID                                                   Usage      |\n",
            "|=============================================================================|\n",
            "|  No running processes found                                                 |\n",
            "+-----------------------------------------------------------------------------+\n"
          ]
        }
      ],
      "source": [
        "!nvidia-smi"
      ]
    },
    {
      "cell_type": "code",
      "execution_count": 1,
      "metadata": {
        "colab": {
          "base_uri": "https://localhost:8080/"
        },
        "id": "9AwVn7yc7Soj",
        "outputId": "f4c09fbb-458f-4006-87f3-bef9fa1bd216"
      },
      "outputs": [
        {
          "name": "stdout",
          "output_type": "stream",
          "text": [
            "Cloning into 'MedViT'...\n",
            "remote: Enumerating objects: 34, done.\u001b[K\n",
            "remote: Counting objects: 100% (34/34), done.\u001b[K\n",
            "remote: Compressing objects: 100% (28/28), done.\u001b[K\n",
            "remote: Total 34 (delta 6), reused 0 (delta 0), pack-reused 0\u001b[K\n",
            "Unpacking objects: 100% (34/34), 756.87 KiB | 9.83 MiB/s, done.\n"
          ]
        }
      ],
      "source": [
        "!git clone https://github.com/Omid-Nejati/MedViT.git"
      ]
    },
    {
      "cell_type": "code",
      "execution_count": 2,
      "metadata": {
        "colab": {
          "base_uri": "https://localhost:8080/"
        },
        "id": "Y051lFG77tXO",
        "outputId": "cb4a4b64-c59d-4734-e1b6-bca56aa8a3f9"
      },
      "outputs": [
        {
          "name": "stdout",
          "output_type": "stream",
          "text": [
            "/content/MedViT\n"
          ]
        }
      ],
      "source": [
        "cd /content/MedViT"
      ]
    },
    {
      "cell_type": "code",
      "execution_count": 1,
      "metadata": {
        "id": "lgm5vmQp8i9h"
      },
      "outputs": [],
      "source": [
        "import os\n",
        "import sys\n",
        "import numpy as np\n",
        "import matplotlib.pyplot as plt\n",
        "%matplotlib inline\n",
        "\n",
        "import torch\n",
        "import torch.nn as nn\n",
        "import torch.optim as optim\n",
        "\n",
        "import torchvision.utils\n",
        "from torchvision import models\n",
        "import torchvision.datasets as dsets\n",
        "import torchvision.transforms as transforms\n",
        "from torchsummary import summary\n"
      ]
    },
    {
      "cell_type": "markdown",
      "metadata": {
        "id": "1ta2wQYk78Mg"
      },
      "source": [
        "##Model"
      ]
    },
    {
      "cell_type": "code",
      "execution_count": 4,
      "metadata": {
        "colab": {
          "base_uri": "https://localhost:8080/"
        },
        "id": "GmPD4BBg7708",
        "outputId": "5a398676-9227-48b5-d107-7d04ce76e206"
      },
      "outputs": [
        {
          "name": "stdout",
          "output_type": "stream",
          "text": [
            "Collecting timm\n",
            "  Downloading timm-1.0.11-py3-none-any.whl.metadata (48 kB)\n",
            "Requirement already satisfied: torch in c:\\users\\rrahman3\\appdata\\local\\programs\\python\\python312\\lib\\site-packages (from timm) (2.4.0)\n",
            "Requirement already satisfied: torchvision in c:\\users\\rrahman3\\appdata\\local\\programs\\python\\python312\\lib\\site-packages (from timm) (0.19.0)\n",
            "Requirement already satisfied: pyyaml in c:\\users\\rrahman3\\appdata\\local\\programs\\python\\python312\\lib\\site-packages (from timm) (6.0.2)\n",
            "Requirement already satisfied: huggingface_hub in c:\\users\\rrahman3\\appdata\\local\\programs\\python\\python312\\lib\\site-packages (from timm) (0.24.5)\n",
            "Collecting safetensors (from timm)\n",
            "  Downloading safetensors-0.4.5-cp312-none-win_amd64.whl.metadata (3.9 kB)\n",
            "Requirement already satisfied: filelock in c:\\users\\rrahman3\\appdata\\local\\programs\\python\\python312\\lib\\site-packages (from huggingface_hub->timm) (3.15.4)\n",
            "Requirement already satisfied: fsspec>=2023.5.0 in c:\\users\\rrahman3\\appdata\\local\\programs\\python\\python312\\lib\\site-packages (from huggingface_hub->timm) (2024.6.1)\n",
            "Requirement already satisfied: packaging>=20.9 in c:\\users\\rrahman3\\appdata\\roaming\\python\\python312\\site-packages (from huggingface_hub->timm) (24.1)\n",
            "Requirement already satisfied: requests in c:\\users\\rrahman3\\appdata\\local\\programs\\python\\python312\\lib\\site-packages (from huggingface_hub->timm) (2.32.3)\n",
            "Requirement already satisfied: tqdm>=4.42.1 in c:\\users\\rrahman3\\appdata\\local\\programs\\python\\python312\\lib\\site-packages (from huggingface_hub->timm) (4.66.5)\n",
            "Requirement already satisfied: typing-extensions>=3.7.4.3 in c:\\users\\rrahman3\\appdata\\local\\programs\\python\\python312\\lib\\site-packages (from huggingface_hub->timm) (4.12.2)\n",
            "Requirement already satisfied: sympy in c:\\users\\rrahman3\\appdata\\local\\programs\\python\\python312\\lib\\site-packages (from torch->timm) (1.13.2)\n",
            "Requirement already satisfied: networkx in c:\\users\\rrahman3\\appdata\\local\\programs\\python\\python312\\lib\\site-packages (from torch->timm) (3.3)\n",
            "Requirement already satisfied: jinja2 in c:\\users\\rrahman3\\appdata\\local\\programs\\python\\python312\\lib\\site-packages (from torch->timm) (3.1.4)\n",
            "Requirement already satisfied: setuptools in c:\\users\\rrahman3\\appdata\\local\\programs\\python\\python312\\lib\\site-packages (from torch->timm) (72.2.0)\n",
            "Requirement already satisfied: numpy<2 in c:\\users\\rrahman3\\appdata\\local\\programs\\python\\python312\\lib\\site-packages (from torchvision->timm) (1.26.4)\n",
            "Requirement already satisfied: pillow!=8.3.*,>=5.3.0 in c:\\users\\rrahman3\\appdata\\local\\programs\\python\\python312\\lib\\site-packages (from torchvision->timm) (10.4.0)\n",
            "Requirement already satisfied: colorama in c:\\users\\rrahman3\\appdata\\roaming\\python\\python312\\site-packages (from tqdm>=4.42.1->huggingface_hub->timm) (0.4.6)\n",
            "Requirement already satisfied: MarkupSafe>=2.0 in c:\\users\\rrahman3\\appdata\\local\\programs\\python\\python312\\lib\\site-packages (from jinja2->torch->timm) (2.1.5)\n",
            "Requirement already satisfied: charset-normalizer<4,>=2 in c:\\users\\rrahman3\\appdata\\local\\programs\\python\\python312\\lib\\site-packages (from requests->huggingface_hub->timm) (3.3.2)\n",
            "Requirement already satisfied: idna<4,>=2.5 in c:\\users\\rrahman3\\appdata\\local\\programs\\python\\python312\\lib\\site-packages (from requests->huggingface_hub->timm) (3.7)\n",
            "Requirement already satisfied: urllib3<3,>=1.21.1 in c:\\users\\rrahman3\\appdata\\local\\programs\\python\\python312\\lib\\site-packages (from requests->huggingface_hub->timm) (2.2.2)\n",
            "Requirement already satisfied: certifi>=2017.4.17 in c:\\users\\rrahman3\\appdata\\local\\programs\\python\\python312\\lib\\site-packages (from requests->huggingface_hub->timm) (2024.7.4)\n",
            "Requirement already satisfied: mpmath<1.4,>=1.1.0 in c:\\users\\rrahman3\\appdata\\local\\programs\\python\\python312\\lib\\site-packages (from sympy->torch->timm) (1.3.0)\n",
            "Downloading timm-1.0.11-py3-none-any.whl (2.3 MB)\n",
            "   ---------------------------------------- 0.0/2.3 MB ? eta -:--:--\n",
            "   ---------------------------------------- 0.0/2.3 MB ? eta -:--:--\n",
            "   ---- ----------------------------------- 0.3/2.3 MB ? eta -:--:--\n",
            "   ---- ----------------------------------- 0.3/2.3 MB ? eta -:--:--\n",
            "   ------------- -------------------------- 0.8/2.3 MB 1.3 MB/s eta 0:00:02\n",
            "   ------------------ --------------------- 1.0/2.3 MB 1.3 MB/s eta 0:00:01\n",
            "   ---------------------- ----------------- 1.3/2.3 MB 1.4 MB/s eta 0:00:01\n",
            "   ------------------------------- -------- 1.8/2.3 MB 1.5 MB/s eta 0:00:01\n",
            "   ------------------------------------ --- 2.1/2.3 MB 1.6 MB/s eta 0:00:01\n",
            "   ---------------------------------------- 2.3/2.3 MB 1.5 MB/s eta 0:00:00\n",
            "Downloading safetensors-0.4.5-cp312-none-win_amd64.whl (286 kB)\n",
            "Installing collected packages: safetensors, timm\n",
            "Successfully installed safetensors-0.4.5 timm-1.0.11\n",
            "Requirement already satisfied: einops in c:\\users\\rrahman3\\appdata\\local\\programs\\python\\python312\\lib\\site-packages (0.8.0)\n"
          ]
        }
      ],
      "source": [
        "!pip install timm\n",
        "!pip install einops"
      ]
    },
    {
      "cell_type": "code",
      "execution_count": 2,
      "metadata": {},
      "outputs": [
        {
          "name": "stderr",
          "output_type": "stream",
          "text": [
            "c:\\Users\\rrahman3\\AppData\\Local\\Programs\\Python\\Python312\\Lib\\site-packages\\timm\\models\\layers\\__init__.py:48: FutureWarning: Importing from timm.models.layers is deprecated, please import via timm.layers\n",
            "  warnings.warn(f\"Importing from {__name__} is deprecated, please import via timm.layers\", FutureWarning)\n",
            "c:\\Users\\rrahman3\\AppData\\Local\\Programs\\Python\\Python312\\Lib\\site-packages\\timm\\models\\registry.py:4: FutureWarning: Importing from timm.models.registry is deprecated, please import via timm.models\n",
            "  warnings.warn(f\"Importing from {__name__} is deprecated, please import via timm.models\", FutureWarning)\n"
          ]
        }
      ],
      "source": [
        "import torch\n",
        "import torch\n",
        "import sys\n",
        "import os\n",
        "# sys.path.insert(0, os.path.abspath('../src/pretrained/MedViT'))\n",
        "sys.path.insert(0, os.path.abspath('../'))\n",
        "\n",
        "\n",
        "from src.pretrained.MedViT import MedViT "
      ]
    },
    {
      "cell_type": "code",
      "execution_count": 3,
      "metadata": {
        "id": "GEQ5S3_U8E0j"
      },
      "outputs": [],
      "source": [
        "\n",
        "from src.pretrained.MedViT.MedViT import MedViT_small as tiny\n"
      ]
    },
    {
      "cell_type": "code",
      "execution_count": 4,
      "metadata": {
        "colab": {
          "base_uri": "https://localhost:8080/"
        },
        "id": "JKcyvB0Y8RsK",
        "outputId": "f8536371-3cd2-4924-e674-af4bf44c980b"
      },
      "outputs": [
        {
          "name": "stdout",
          "output_type": "stream",
          "text": [
            "initialize_weights...\n"
          ]
        }
      ],
      "source": [
        "model = tiny()"
      ]
    },
    {
      "cell_type": "code",
      "execution_count": 5,
      "metadata": {
        "colab": {
          "base_uri": "https://localhost:8080/"
        },
        "id": "35YD-2Ul8aaV",
        "outputId": "8960c453-22fd-4298-8c91-75e9697c0412"
      },
      "outputs": [
        {
          "data": {
            "text/plain": [
              "Linear(in_features=1024, out_features=1000, bias=True)"
            ]
          },
          "execution_count": 5,
          "metadata": {},
          "output_type": "execute_result"
        }
      ],
      "source": [
        "model.proj_head[0]"
      ]
    },
    {
      "cell_type": "code",
      "execution_count": 6,
      "metadata": {
        "id": "0RE8qlwf8ZV5"
      },
      "outputs": [],
      "source": [
        "model.proj_head[0] = torch.nn.Linear(in_features=1024, out_features=14, bias=True)"
      ]
    },
    {
      "cell_type": "code",
      "execution_count": 9,
      "metadata": {
        "id": "dFXm96Gi8g7u"
      },
      "outputs": [],
      "source": [
        "model = model.cuda()"
      ]
    },
    {
      "cell_type": "markdown",
      "metadata": {
        "id": "nIefIFDW80-U"
      },
      "source": [
        "##Dataset"
      ]
    },
    {
      "cell_type": "code",
      "execution_count": 9,
      "metadata": {
        "colab": {
          "base_uri": "https://localhost:8080/"
        },
        "id": "6yVawz1S84b3",
        "outputId": "c6354da3-c3d1-4131-f671-51313faefb01"
      },
      "outputs": [
        {
          "name": "stdout",
          "output_type": "stream",
          "text": [
            "Collecting medmnist\n",
            "  Downloading medmnist-3.0.2-py3-none-any.whl.metadata (14 kB)\n",
            "Requirement already satisfied: numpy in c:\\users\\rrahman3\\appdata\\local\\programs\\python\\python312\\lib\\site-packages (from medmnist) (1.26.4)\n",
            "Requirement already satisfied: pandas in c:\\users\\rrahman3\\appdata\\local\\programs\\python\\python312\\lib\\site-packages (from medmnist) (2.2.2)\n",
            "Requirement already satisfied: scikit-learn in c:\\users\\rrahman3\\appdata\\local\\programs\\python\\python312\\lib\\site-packages (from medmnist) (1.5.1)\n",
            "Requirement already satisfied: scikit-image in c:\\users\\rrahman3\\appdata\\local\\programs\\python\\python312\\lib\\site-packages (from medmnist) (0.24.0)\n",
            "Requirement already satisfied: tqdm in c:\\users\\rrahman3\\appdata\\local\\programs\\python\\python312\\lib\\site-packages (from medmnist) (4.66.5)\n",
            "Requirement already satisfied: Pillow in c:\\users\\rrahman3\\appdata\\local\\programs\\python\\python312\\lib\\site-packages (from medmnist) (10.4.0)\n",
            "Collecting fire (from medmnist)\n",
            "  Downloading fire-0.7.0.tar.gz (87 kB)\n",
            "  Preparing metadata (setup.py): started\n",
            "  Preparing metadata (setup.py): finished with status 'done'\n",
            "Requirement already satisfied: torch in c:\\users\\rrahman3\\appdata\\local\\programs\\python\\python312\\lib\\site-packages (from medmnist) (2.4.0)\n",
            "Requirement already satisfied: torchvision in c:\\users\\rrahman3\\appdata\\local\\programs\\python\\python312\\lib\\site-packages (from medmnist) (0.19.0)\n",
            "Requirement already satisfied: termcolor in c:\\users\\rrahman3\\appdata\\local\\programs\\python\\python312\\lib\\site-packages (from fire->medmnist) (2.4.0)\n",
            "Requirement already satisfied: python-dateutil>=2.8.2 in c:\\users\\rrahman3\\appdata\\roaming\\python\\python312\\site-packages (from pandas->medmnist) (2.9.0.post0)\n",
            "Requirement already satisfied: pytz>=2020.1 in c:\\users\\rrahman3\\appdata\\local\\programs\\python\\python312\\lib\\site-packages (from pandas->medmnist) (2024.1)\n",
            "Requirement already satisfied: tzdata>=2022.7 in c:\\users\\rrahman3\\appdata\\local\\programs\\python\\python312\\lib\\site-packages (from pandas->medmnist) (2024.1)\n",
            "Requirement already satisfied: scipy>=1.9 in c:\\users\\rrahman3\\appdata\\local\\programs\\python\\python312\\lib\\site-packages (from scikit-image->medmnist) (1.14.0)\n",
            "Requirement already satisfied: networkx>=2.8 in c:\\users\\rrahman3\\appdata\\local\\programs\\python\\python312\\lib\\site-packages (from scikit-image->medmnist) (3.3)\n",
            "Requirement already satisfied: imageio>=2.33 in c:\\users\\rrahman3\\appdata\\local\\programs\\python\\python312\\lib\\site-packages (from scikit-image->medmnist) (2.35.1)\n",
            "Requirement already satisfied: tifffile>=2022.8.12 in c:\\users\\rrahman3\\appdata\\local\\programs\\python\\python312\\lib\\site-packages (from scikit-image->medmnist) (2024.9.20)\n",
            "Requirement already satisfied: packaging>=21 in c:\\users\\rrahman3\\appdata\\roaming\\python\\python312\\site-packages (from scikit-image->medmnist) (24.1)\n",
            "Requirement already satisfied: lazy-loader>=0.4 in c:\\users\\rrahman3\\appdata\\local\\programs\\python\\python312\\lib\\site-packages (from scikit-image->medmnist) (0.4)\n",
            "Requirement already satisfied: joblib>=1.2.0 in c:\\users\\rrahman3\\appdata\\local\\programs\\python\\python312\\lib\\site-packages (from scikit-learn->medmnist) (1.4.2)\n",
            "Requirement already satisfied: threadpoolctl>=3.1.0 in c:\\users\\rrahman3\\appdata\\local\\programs\\python\\python312\\lib\\site-packages (from scikit-learn->medmnist) (3.5.0)\n",
            "Requirement already satisfied: filelock in c:\\users\\rrahman3\\appdata\\local\\programs\\python\\python312\\lib\\site-packages (from torch->medmnist) (3.15.4)\n",
            "Requirement already satisfied: typing-extensions>=4.8.0 in c:\\users\\rrahman3\\appdata\\local\\programs\\python\\python312\\lib\\site-packages (from torch->medmnist) (4.12.2)\n",
            "Requirement already satisfied: sympy in c:\\users\\rrahman3\\appdata\\local\\programs\\python\\python312\\lib\\site-packages (from torch->medmnist) (1.13.2)\n",
            "Requirement already satisfied: jinja2 in c:\\users\\rrahman3\\appdata\\local\\programs\\python\\python312\\lib\\site-packages (from torch->medmnist) (3.1.4)\n",
            "Requirement already satisfied: fsspec in c:\\users\\rrahman3\\appdata\\local\\programs\\python\\python312\\lib\\site-packages (from torch->medmnist) (2024.6.1)\n",
            "Requirement already satisfied: setuptools in c:\\users\\rrahman3\\appdata\\local\\programs\\python\\python312\\lib\\site-packages (from torch->medmnist) (72.2.0)\n",
            "Requirement already satisfied: colorama in c:\\users\\rrahman3\\appdata\\roaming\\python\\python312\\site-packages (from tqdm->medmnist) (0.4.6)\n",
            "Requirement already satisfied: six>=1.5 in c:\\users\\rrahman3\\appdata\\roaming\\python\\python312\\site-packages (from python-dateutil>=2.8.2->pandas->medmnist) (1.16.0)\n",
            "Requirement already satisfied: MarkupSafe>=2.0 in c:\\users\\rrahman3\\appdata\\local\\programs\\python\\python312\\lib\\site-packages (from jinja2->torch->medmnist) (2.1.5)\n",
            "Requirement already satisfied: mpmath<1.4,>=1.1.0 in c:\\users\\rrahman3\\appdata\\local\\programs\\python\\python312\\lib\\site-packages (from sympy->torch->medmnist) (1.3.0)\n",
            "Downloading medmnist-3.0.2-py3-none-any.whl (25 kB)\n",
            "Building wheels for collected packages: fire\n",
            "  Building wheel for fire (setup.py): started\n",
            "  Building wheel for fire (setup.py): finished with status 'done'\n",
            "  Created wheel for fire: filename=fire-0.7.0-py3-none-any.whl size=114263 sha256=d2cfebe274982f4ca8e5c7dfd2e9e694fa92fb984c192f4260bcf97cbaf6812f\n",
            "  Stored in directory: c:\\users\\rrahman3\\appdata\\local\\pip\\cache\\wheels\\9e\\5b\\45\\29f72e55d87a29426b04b3cfdf20325c079eb97ab74f59017d\n",
            "Successfully built fire\n",
            "Installing collected packages: fire, medmnist\n",
            "Successfully installed fire-0.7.0 medmnist-3.0.2\n"
          ]
        }
      ],
      "source": [
        "!pip install medmnist"
      ]
    },
    {
      "cell_type": "code",
      "execution_count": 7,
      "metadata": {
        "id": "ChBhSTxK87hc"
      },
      "outputs": [],
      "source": [
        "from tqdm import tqdm\n",
        "import numpy as np\n",
        "import torch\n",
        "import torch.nn as nn\n",
        "import torch.optim as optim\n",
        "import torch.utils.data as data\n",
        "import torchvision.transforms as transforms\n",
        "import torchvision\n",
        "import medmnist\n",
        "from medmnist import INFO, Evaluator"
      ]
    },
    {
      "cell_type": "code",
      "execution_count": 8,
      "metadata": {
        "id": "rH1INOxS8-iM"
      },
      "outputs": [],
      "source": [
        "data_flag = 'breastmnist'\n",
        "data_flag = 'chestmnist'\n",
        "# [tissuemnist, pathmnist, chestmnist, dermamnist, octmnist, \n",
        "# pnemoniamnist, retinamnist, breastmnist, bloodmnist, tissuemnist, organamnist, organcmnist, organsmnist]\n",
        "download = True\n",
        "\n",
        "NUM_EPOCHS = 10\n",
        "BATCH_SIZE = 10\n",
        "lr = 0.005\n",
        "\n",
        "info = INFO[data_flag]\n",
        "task = info['task']\n",
        "n_channels = info['n_channels']\n",
        "n_classes = len(info['label'])\n",
        "\n",
        "DataClass = getattr(medmnist, info['python_class'])"
      ]
    },
    {
      "cell_type": "code",
      "execution_count": 10,
      "metadata": {},
      "outputs": [
        {
          "data": {
            "text/plain": [
              "{'python_class': 'ChestMNIST',\n",
              " 'description': 'The ChestMNIST is based on the NIH-ChestXray14 dataset, a dataset comprising 112,120 frontal-view X-Ray images of 30,805 unique patients with the text-mined 14 disease labels, which could be formulized as a multi-label binary-class classification task. We use the official data split, and resize the source images of 1×1024×1024 into 1×28×28.',\n",
              " 'url': 'https://zenodo.org/records/10519652/files/chestmnist.npz?download=1',\n",
              " 'MD5': '02c8a6516a18b556561a56cbdd36c4a8',\n",
              " 'url_64': 'https://zenodo.org/records/10519652/files/chestmnist_64.npz?download=1',\n",
              " 'MD5_64': '9de6cd0b934ebb5b7426cfba5efbae16',\n",
              " 'url_128': 'https://zenodo.org/records/10519652/files/chestmnist_128.npz?download=1',\n",
              " 'MD5_128': 'db107e5590b27930b62dbaf558aebee3',\n",
              " 'url_224': 'https://zenodo.org/records/10519652/files/chestmnist_224.npz?download=1',\n",
              " 'MD5_224': '45bd33e6f06c3e8cdb481c74a89152aa',\n",
              " 'task': 'multi-label, binary-class',\n",
              " 'label': {'0': 'atelectasis',\n",
              "  '1': 'cardiomegaly',\n",
              "  '2': 'effusion',\n",
              "  '3': 'infiltration',\n",
              "  '4': 'mass',\n",
              "  '5': 'nodule',\n",
              "  '6': 'pneumonia',\n",
              "  '7': 'pneumothorax',\n",
              "  '8': 'consolidation',\n",
              "  '9': 'edema',\n",
              "  '10': 'emphysema',\n",
              "  '11': 'fibrosis',\n",
              "  '12': 'pleural',\n",
              "  '13': 'hernia'},\n",
              " 'n_channels': 1,\n",
              " 'n_samples': {'train': 78468, 'val': 11219, 'test': 22433},\n",
              " 'license': 'CC BY 4.0'}"
            ]
          },
          "execution_count": 10,
          "metadata": {},
          "output_type": "execute_result"
        }
      ],
      "source": [
        "info"
      ]
    },
    {
      "cell_type": "code",
      "execution_count": 18,
      "metadata": {
        "colab": {
          "base_uri": "https://localhost:8080/"
        },
        "id": "TD22o8uW9L1X",
        "outputId": "b47e6cdc-dd42-4b91-8574-db868c638fea"
      },
      "outputs": [
        {
          "name": "stdout",
          "output_type": "stream",
          "text": [
            "Using downloaded and verified file: C:\\Users\\rrahman3\\.medmnist\\chestmnist.npz\n",
            "Using downloaded and verified file: C:\\Users\\rrahman3\\.medmnist\\chestmnist.npz\n"
          ]
        }
      ],
      "source": [
        "from torchvision.transforms.transforms import Resize\n",
        "# preprocessing\n",
        "train_transform = transforms.Compose([\n",
        "    transforms.Resize(224),\n",
        "    transforms.Lambda(lambda image: image.convert('RGB')),\n",
        "    torchvision.transforms.AugMix(),\n",
        "    transforms.ToTensor(),\n",
        "    transforms.Normalize(mean=[.5], std=[.5])\n",
        "])\n",
        "test_transform = transforms.Compose([\n",
        "    transforms.Resize(224),\n",
        "    transforms.Lambda(lambda image: image.convert('RGB')),\n",
        "    transforms.ToTensor(),\n",
        "    transforms.Normalize(mean=[.5], std=[.5])\n",
        "])\n",
        "\n",
        "# load the data\n",
        "train_dataset = DataClass(split='train', transform=train_transform, download=download)\n",
        "test_dataset = DataClass(split='test', transform=test_transform, download=download)\n",
        "\n",
        "# pil_dataset = DataClass(split='train', download=download)\n",
        "\n",
        "# encapsulate data into dataloader form\n",
        "train_loader = data.DataLoader(dataset=train_dataset, batch_size=BATCH_SIZE, shuffle=True)\n",
        "train_loader_at_eval = data.DataLoader(dataset=train_dataset, batch_size=2*BATCH_SIZE, shuffle=False)\n",
        "test_loader = data.DataLoader(dataset=test_dataset, batch_size=2*BATCH_SIZE, shuffle=False)"
      ]
    },
    {
      "cell_type": "code",
      "execution_count": 19,
      "metadata": {
        "colab": {
          "base_uri": "https://localhost:8080/"
        },
        "id": "eNjqCTnI9T9w",
        "outputId": "dd0aff61-737b-457f-a627-94b9a0fa8d51"
      },
      "outputs": [
        {
          "name": "stdout",
          "output_type": "stream",
          "text": [
            "Dataset ChestMNIST of size 28 (chestmnist)\n",
            "    Number of datapoints: 78468\n",
            "    Root location: C:\\Users\\rrahman3\\.medmnist\n",
            "    Split: train\n",
            "    Task: multi-label, binary-class\n",
            "    Number of channels: 1\n",
            "    Meaning of labels: {'0': 'atelectasis', '1': 'cardiomegaly', '2': 'effusion', '3': 'infiltration', '4': 'mass', '5': 'nodule', '6': 'pneumonia', '7': 'pneumothorax', '8': 'consolidation', '9': 'edema', '10': 'emphysema', '11': 'fibrosis', '12': 'pleural', '13': 'hernia'}\n",
            "    Number of samples: {'train': 78468, 'val': 11219, 'test': 22433}\n",
            "    Description: The ChestMNIST is based on the NIH-ChestXray14 dataset, a dataset comprising 112,120 frontal-view X-Ray images of 30,805 unique patients with the text-mined 14 disease labels, which could be formulized as a multi-label binary-class classification task. We use the official data split, and resize the source images of 1×1024×1024 into 1×28×28.\n",
            "    License: CC BY 4.0\n",
            "===================\n",
            "Dataset ChestMNIST of size 28 (chestmnist)\n",
            "    Number of datapoints: 22433\n",
            "    Root location: C:\\Users\\rrahman3\\.medmnist\n",
            "    Split: test\n",
            "    Task: multi-label, binary-class\n",
            "    Number of channels: 1\n",
            "    Meaning of labels: {'0': 'atelectasis', '1': 'cardiomegaly', '2': 'effusion', '3': 'infiltration', '4': 'mass', '5': 'nodule', '6': 'pneumonia', '7': 'pneumothorax', '8': 'consolidation', '9': 'edema', '10': 'emphysema', '11': 'fibrosis', '12': 'pleural', '13': 'hernia'}\n",
            "    Number of samples: {'train': 78468, 'val': 11219, 'test': 22433}\n",
            "    Description: The ChestMNIST is based on the NIH-ChestXray14 dataset, a dataset comprising 112,120 frontal-view X-Ray images of 30,805 unique patients with the text-mined 14 disease labels, which could be formulized as a multi-label binary-class classification task. We use the official data split, and resize the source images of 1×1024×1024 into 1×28×28.\n",
            "    License: CC BY 4.0\n"
          ]
        }
      ],
      "source": [
        "print(train_dataset)\n",
        "print(\"===================\")\n",
        "print(test_dataset)"
      ]
    },
    {
      "cell_type": "code",
      "execution_count": 20,
      "metadata": {},
      "outputs": [
        {
          "name": "stderr",
          "output_type": "stream",
          "text": [
            "  0%|          | 0/7847 [00:00<?, ?it/s]"
          ]
        },
        {
          "name": "stdout",
          "output_type": "stream",
          "text": [
            "torch.Size([10, 14])\n",
            "tensor([[0, 0, 0, 0, 0, 0, 0, 0, 0, 0, 0, 0, 0, 0],\n",
            "        [0, 1, 0, 0, 0, 0, 0, 0, 0, 0, 0, 0, 0, 0],\n",
            "        [0, 0, 0, 0, 0, 0, 0, 0, 0, 0, 1, 0, 0, 0],\n",
            "        [0, 0, 0, 1, 0, 0, 0, 0, 0, 0, 0, 0, 0, 0],\n",
            "        [0, 0, 0, 0, 0, 0, 0, 0, 0, 0, 0, 0, 0, 0],\n",
            "        [0, 0, 0, 0, 0, 1, 0, 1, 0, 0, 0, 0, 0, 0],\n",
            "        [1, 0, 0, 0, 1, 0, 0, 0, 0, 0, 1, 0, 0, 0],\n",
            "        [0, 0, 1, 0, 0, 0, 0, 1, 0, 0, 0, 0, 0, 0],\n",
            "        [0, 0, 0, 0, 0, 0, 0, 0, 1, 0, 0, 0, 0, 0],\n",
            "        [0, 0, 0, 1, 0, 0, 0, 0, 0, 0, 0, 0, 0, 0]], dtype=torch.int32)\n",
            "torch.Size([10, 3, 224, 224])\n",
            "tensor([[[[-0.7412, -0.7412, -0.7412,  ..., -0.7804, -0.7804, -0.7804],\n",
            "          [-0.7412, -0.7412, -0.7412,  ..., -0.7804, -0.7804, -0.7804],\n",
            "          [-0.7412, -0.7412, -0.7412,  ..., -0.7804, -0.7804, -0.7804],\n",
            "          ...,\n",
            "          [-0.7804, -0.7804, -0.7725,  ..., -0.2549, -0.2549, -0.2549],\n",
            "          [-0.7804, -0.7804, -0.7725,  ..., -0.2549, -0.2549, -0.2549],\n",
            "          [-0.7804, -0.7804, -0.7804,  ..., -0.2549, -0.2549, -0.2549]],\n",
            "\n",
            "         [[-0.7412, -0.7412, -0.7412,  ..., -0.7804, -0.7804, -0.7804],\n",
            "          [-0.7412, -0.7412, -0.7412,  ..., -0.7804, -0.7804, -0.7804],\n",
            "          [-0.7412, -0.7412, -0.7412,  ..., -0.7804, -0.7804, -0.7804],\n",
            "          ...,\n",
            "          [-0.7804, -0.7804, -0.7725,  ..., -0.2549, -0.2549, -0.2549],\n",
            "          [-0.7804, -0.7804, -0.7725,  ..., -0.2549, -0.2549, -0.2549],\n",
            "          [-0.7804, -0.7804, -0.7804,  ..., -0.2549, -0.2549, -0.2549]],\n",
            "\n",
            "         [[-0.7412, -0.7412, -0.7412,  ..., -0.7804, -0.7804, -0.7804],\n",
            "          [-0.7412, -0.7412, -0.7412,  ..., -0.7804, -0.7804, -0.7804],\n",
            "          [-0.7412, -0.7412, -0.7412,  ..., -0.7804, -0.7804, -0.7804],\n",
            "          ...,\n",
            "          [-0.7804, -0.7804, -0.7725,  ..., -0.2549, -0.2549, -0.2549],\n",
            "          [-0.7804, -0.7804, -0.7725,  ..., -0.2549, -0.2549, -0.2549],\n",
            "          [-0.7804, -0.7804, -0.7804,  ..., -0.2549, -0.2549, -0.2549]]],\n",
            "\n",
            "\n",
            "        [[[-0.9922, -0.9922, -0.9922,  ..., -0.8902, -0.8902, -0.8902],\n",
            "          [-0.9922, -0.9922, -0.9922,  ..., -0.8902, -0.8902, -0.8902],\n",
            "          [-0.9922, -0.9922, -0.9922,  ..., -0.8902, -0.8902, -0.8902],\n",
            "          ...,\n",
            "          [-0.9137, -0.9137, -0.9137,  ..., -0.7333, -0.7333, -0.7333],\n",
            "          [-0.9137, -0.9137, -0.9137,  ..., -0.7333, -0.7333, -0.7333],\n",
            "          [-0.9137, -0.9137, -0.9137,  ..., -0.7333, -0.7333, -0.7333]],\n",
            "\n",
            "         [[-0.9922, -0.9922, -0.9922,  ..., -0.8902, -0.8902, -0.8902],\n",
            "          [-0.9922, -0.9922, -0.9922,  ..., -0.8902, -0.8902, -0.8902],\n",
            "          [-0.9922, -0.9922, -0.9922,  ..., -0.8902, -0.8902, -0.8902],\n",
            "          ...,\n",
            "          [-0.9137, -0.9137, -0.9137,  ..., -0.7333, -0.7333, -0.7333],\n",
            "          [-0.9137, -0.9137, -0.9137,  ..., -0.7333, -0.7333, -0.7333],\n",
            "          [-0.9137, -0.9137, -0.9137,  ..., -0.7333, -0.7333, -0.7333]],\n",
            "\n",
            "         [[-0.9922, -0.9922, -0.9922,  ..., -0.8902, -0.8902, -0.8902],\n",
            "          [-0.9922, -0.9922, -0.9922,  ..., -0.8902, -0.8902, -0.8902],\n",
            "          [-0.9922, -0.9922, -0.9922,  ..., -0.8902, -0.8902, -0.8902],\n",
            "          ...,\n",
            "          [-0.9137, -0.9137, -0.9137,  ..., -0.7333, -0.7333, -0.7333],\n",
            "          [-0.9137, -0.9137, -0.9137,  ..., -0.7333, -0.7333, -0.7333],\n",
            "          [-0.9137, -0.9137, -0.9137,  ..., -0.7333, -0.7333, -0.7333]]],\n",
            "\n",
            "\n",
            "        [[[-0.9922, -0.9922, -0.9922,  ..., -0.9922, -0.9922, -0.9922],\n",
            "          [-0.9922, -0.9922, -0.9922,  ..., -0.9922, -0.9922, -0.9922],\n",
            "          [-0.9922, -0.9922, -0.9922,  ..., -0.9922, -0.9922, -0.9922],\n",
            "          ...,\n",
            "          [-0.9922, -0.9922, -0.9922,  ..., -0.9922, -0.9922, -0.9922],\n",
            "          [-0.9922, -0.9922, -0.9922,  ..., -0.9922, -0.9922, -0.9922],\n",
            "          [-0.9922, -0.9922, -0.9922,  ..., -1.0000, -1.0000, -1.0000]],\n",
            "\n",
            "         [[-0.9922, -0.9922, -0.9922,  ..., -0.9922, -0.9922, -0.9922],\n",
            "          [-0.9922, -0.9922, -0.9922,  ..., -0.9922, -0.9922, -0.9922],\n",
            "          [-0.9922, -0.9922, -0.9922,  ..., -0.9922, -0.9922, -0.9922],\n",
            "          ...,\n",
            "          [-0.9922, -0.9922, -0.9922,  ..., -0.9922, -0.9922, -0.9922],\n",
            "          [-0.9922, -0.9922, -0.9922,  ..., -0.9922, -0.9922, -0.9922],\n",
            "          [-0.9922, -0.9922, -0.9922,  ..., -1.0000, -1.0000, -1.0000]],\n",
            "\n",
            "         [[-0.9922, -0.9922, -0.9922,  ..., -0.9922, -0.9922, -0.9922],\n",
            "          [-0.9922, -0.9922, -0.9922,  ..., -0.9922, -0.9922, -0.9922],\n",
            "          [-0.9922, -0.9922, -0.9922,  ..., -0.9922, -0.9922, -0.9922],\n",
            "          ...,\n",
            "          [-0.9922, -0.9922, -0.9922,  ..., -0.9922, -0.9922, -0.9922],\n",
            "          [-0.9922, -0.9922, -0.9922,  ..., -0.9922, -0.9922, -0.9922],\n",
            "          [-0.9922, -0.9922, -0.9922,  ..., -1.0000, -1.0000, -1.0000]]],\n",
            "\n",
            "\n",
            "        ...,\n",
            "\n",
            "\n",
            "        [[[-0.6314, -0.6235, -0.6235,  ..., -0.6314, -0.6314, -0.6392],\n",
            "          [-0.6314, -0.6235, -0.6235,  ..., -0.6314, -0.6314, -0.6392],\n",
            "          [-0.6314, -0.6235, -0.6235,  ..., -0.6314, -0.6314, -0.6392],\n",
            "          ...,\n",
            "          [-0.8039, -0.8039, -0.8039,  ..., -0.8353, -0.8353, -0.8353],\n",
            "          [-0.8039, -0.8039, -0.8039,  ..., -0.8353, -0.8353, -0.8353],\n",
            "          [-0.8039, -0.8039, -0.8039,  ..., -0.8353, -0.8353, -0.8353]],\n",
            "\n",
            "         [[-0.6314, -0.6235, -0.6235,  ..., -0.6314, -0.6314, -0.6392],\n",
            "          [-0.6314, -0.6235, -0.6235,  ..., -0.6314, -0.6314, -0.6392],\n",
            "          [-0.6314, -0.6235, -0.6235,  ..., -0.6314, -0.6314, -0.6392],\n",
            "          ...,\n",
            "          [-0.8039, -0.8039, -0.8039,  ..., -0.8353, -0.8353, -0.8353],\n",
            "          [-0.8039, -0.8039, -0.8039,  ..., -0.8353, -0.8353, -0.8353],\n",
            "          [-0.8039, -0.8039, -0.8039,  ..., -0.8353, -0.8353, -0.8353]],\n",
            "\n",
            "         [[-0.6314, -0.6235, -0.6235,  ..., -0.6314, -0.6314, -0.6392],\n",
            "          [-0.6314, -0.6235, -0.6235,  ..., -0.6314, -0.6314, -0.6392],\n",
            "          [-0.6314, -0.6235, -0.6235,  ..., -0.6314, -0.6314, -0.6392],\n",
            "          ...,\n",
            "          [-0.8039, -0.8039, -0.8039,  ..., -0.8353, -0.8353, -0.8353],\n",
            "          [-0.8039, -0.8039, -0.8039,  ..., -0.8353, -0.8353, -0.8353],\n",
            "          [-0.8039, -0.8039, -0.8039,  ..., -0.8353, -0.8353, -0.8353]]],\n",
            "\n",
            "\n",
            "        [[[-0.8510, -0.8510, -0.8510,  ..., -0.8431, -0.8431, -0.8431],\n",
            "          [-0.8588, -0.8510, -0.8510,  ..., -0.8431, -0.8431, -0.8431],\n",
            "          [-0.8588, -0.8510, -0.8510,  ..., -0.8431, -0.8431, -0.8431],\n",
            "          ...,\n",
            "          [-0.8902, -0.8902, -0.8902,  ..., -0.5451, -0.5451, -0.5373],\n",
            "          [-0.8902, -0.8902, -0.8902,  ..., -0.5451, -0.5451, -0.5373],\n",
            "          [-0.8902, -0.8902, -0.8902,  ..., -0.5451, -0.5451, -0.5373]],\n",
            "\n",
            "         [[-0.8510, -0.8510, -0.8510,  ..., -0.8431, -0.8431, -0.8431],\n",
            "          [-0.8588, -0.8510, -0.8510,  ..., -0.8431, -0.8431, -0.8431],\n",
            "          [-0.8588, -0.8510, -0.8510,  ..., -0.8431, -0.8431, -0.8431],\n",
            "          ...,\n",
            "          [-0.8902, -0.8902, -0.8902,  ..., -0.5451, -0.5451, -0.5373],\n",
            "          [-0.8902, -0.8902, -0.8902,  ..., -0.5451, -0.5451, -0.5373],\n",
            "          [-0.8902, -0.8902, -0.8902,  ..., -0.5451, -0.5451, -0.5373]],\n",
            "\n",
            "         [[-0.8510, -0.8510, -0.8510,  ..., -0.8431, -0.8431, -0.8431],\n",
            "          [-0.8588, -0.8510, -0.8510,  ..., -0.8431, -0.8431, -0.8431],\n",
            "          [-0.8588, -0.8510, -0.8510,  ..., -0.8431, -0.8431, -0.8431],\n",
            "          ...,\n",
            "          [-0.8902, -0.8902, -0.8902,  ..., -0.5451, -0.5451, -0.5373],\n",
            "          [-0.8902, -0.8902, -0.8902,  ..., -0.5451, -0.5451, -0.5373],\n",
            "          [-0.8902, -0.8902, -0.8902,  ..., -0.5451, -0.5451, -0.5373]]],\n",
            "\n",
            "\n",
            "        [[[-1.0000, -1.0000, -1.0000,  ..., -1.0000, -1.0000, -1.0000],\n",
            "          [-1.0000, -1.0000, -1.0000,  ..., -1.0000, -1.0000, -1.0000],\n",
            "          [-1.0000, -1.0000, -1.0000,  ..., -1.0000, -1.0000, -1.0000],\n",
            "          ...,\n",
            "          [-0.7490, -0.7490, -0.7490,  ..., -0.3412, -0.3412, -0.3412],\n",
            "          [-0.7490, -0.7490, -0.7490,  ..., -0.3412, -0.3412, -0.3412],\n",
            "          [-0.7490, -0.7490, -0.7490,  ..., -0.3412, -0.3412, -0.3412]],\n",
            "\n",
            "         [[-1.0000, -1.0000, -1.0000,  ..., -1.0000, -1.0000, -1.0000],\n",
            "          [-1.0000, -1.0000, -1.0000,  ..., -1.0000, -1.0000, -1.0000],\n",
            "          [-1.0000, -1.0000, -1.0000,  ..., -1.0000, -1.0000, -1.0000],\n",
            "          ...,\n",
            "          [-0.7490, -0.7490, -0.7490,  ..., -0.3412, -0.3412, -0.3412],\n",
            "          [-0.7490, -0.7490, -0.7490,  ..., -0.3412, -0.3412, -0.3412],\n",
            "          [-0.7490, -0.7490, -0.7490,  ..., -0.3412, -0.3412, -0.3412]],\n",
            "\n",
            "         [[-1.0000, -1.0000, -1.0000,  ..., -1.0000, -1.0000, -1.0000],\n",
            "          [-1.0000, -1.0000, -1.0000,  ..., -1.0000, -1.0000, -1.0000],\n",
            "          [-1.0000, -1.0000, -1.0000,  ..., -1.0000, -1.0000, -1.0000],\n",
            "          ...,\n",
            "          [-0.7490, -0.7490, -0.7490,  ..., -0.3412, -0.3412, -0.3412],\n",
            "          [-0.7490, -0.7490, -0.7490,  ..., -0.3412, -0.3412, -0.3412],\n",
            "          [-0.7490, -0.7490, -0.7490,  ..., -0.3412, -0.3412, -0.3412]]]])\n"
          ]
        },
        {
          "name": "stderr",
          "output_type": "stream",
          "text": [
            "\n"
          ]
        }
      ],
      "source": [
        "for inputs, targets in tqdm(train_loader):\n",
        "        # inputs, targets = inputs.cuda(), targets.cuda()\n",
        "    print(targets.shape)\n",
        "    print(targets)\n",
        "    print(inputs.shape)\n",
        "    print(inputs)\n",
        "    break"
      ]
    },
    {
      "cell_type": "code",
      "execution_count": 13,
      "metadata": {},
      "outputs": [],
      "source": [
        "from PIL import Image\n",
        "def show_sample_image():\n",
        "    for x, y in train_loader:\n",
        "        # print(x, y)\n",
        "        print(x.shape, y.shape)\n",
        "        output_numpy = x[0].permute(1, 2, 0).cpu().numpy()  # Convert from (C, H, W) to (H, W, C)\n",
        "\n",
        "        # Convert the NumPy array to an image (ensure the values are in [0, 255] for uint8 type)\n",
        "        # output_image = Image.fromarray((output_numpy * 255).astype('uint8'))\n",
        "        # obj = obj.transpose((0, 2, 3, 1))\n",
        "        output_numpy = np.clip(((output_numpy + 1) / 2.0) * 256, 0, 255)\n",
        "\n",
        "        # Show the image\n",
        "        print(output_numpy.shape)\n",
        "        output_numpy = np.asarray(np.uint8(output_numpy), dtype=np.uint8)\n",
        "        output_image = Image.fromarray(output_numpy, mode=\"RGB\")\n",
        "        output_image.show()\n",
        "        break"
      ]
    },
    {
      "cell_type": "code",
      "execution_count": 14,
      "metadata": {},
      "outputs": [
        {
          "name": "stdout",
          "output_type": "stream",
          "text": [
            "torch.Size([10, 3, 224, 224]) torch.Size([10, 14])\n",
            "(224, 224, 3)\n"
          ]
        }
      ],
      "source": [
        "show_sample_image()"
      ]
    },
    {
      "cell_type": "markdown",
      "metadata": {},
      "source": [
        "## NIHCC Chest Xray Dataset"
      ]
    },
    {
      "cell_type": "code",
      "execution_count": 16,
      "metadata": {},
      "outputs": [
        {
          "name": "stdout",
          "output_type": "stream",
          "text": [
            "Index(['Unnamed: 0', 'id', 'Atelectasis', 'Cardiomegaly', 'Consolidation',\n",
            "       'Edema', 'Effusion', 'Emphysema', 'Fibrosis', 'Hernia', 'Infiltration',\n",
            "       'Mass', 'Nodule', 'Pleural Thickening', 'Pneumonia', 'Pneumothorax',\n",
            "       'Pneumoperitoneum', 'Pneumomediastinum', 'Subcutaneous Emphysema',\n",
            "       'Tortuous Aorta', 'Calcification of the Aorta', 'No Finding', 'subj_id',\n",
            "       'Image Index', 'Finding Labels', 'Follow-up #', 'Patient ID',\n",
            "       'Patient Age', 'Patient Gender', 'View Position', 'OriginalImage[Width',\n",
            "       'Height]', 'OriginalImagePixelSpacing[x', 'y]'],\n",
            "      dtype='object')\n",
            "785\n"
          ]
        },
        {
          "name": "stderr",
          "output_type": "stream",
          "text": [
            "  0%|          | 0/79 [00:06<?, ?it/s]"
          ]
        },
        {
          "name": "stdout",
          "output_type": "stream",
          "text": [
            "torch.Size([10, 14])\n",
            "tensor([[0., 0., 0., 0., 0., 0., 0., 0., 0., 0., 0., 0., 0., 0.],\n",
            "        [0., 0., 0., 0., 0., 0., 0., 0., 0., 0., 0., 0., 0., 0.],\n",
            "        [0., 0., 0., 0., 0., 0., 0., 0., 0., 0., 0., 0., 0., 0.],\n",
            "        [0., 0., 0., 0., 0., 0., 0., 0., 0., 0., 0., 0., 0., 0.],\n",
            "        [0., 0., 0., 0., 0., 0., 0., 0., 0., 0., 0., 0., 0., 0.],\n",
            "        [0., 0., 0., 1., 0., 0., 0., 0., 0., 0., 0., 0., 0., 0.],\n",
            "        [0., 0., 0., 0., 0., 0., 0., 0., 0., 0., 0., 0., 0., 0.],\n",
            "        [0., 0., 0., 0., 0., 0., 0., 0., 0., 0., 0., 0., 0., 0.],\n",
            "        [0., 0., 0., 0., 0., 0., 0., 0., 0., 0., 0., 0., 0., 0.],\n",
            "        [0., 0., 0., 0., 0., 0., 0., 0., 0., 0., 0., 0., 0., 0.]])\n",
            "torch.Size([10, 3, 224, 224])\n",
            "tensor([[[[-0.5608, -0.4431, -0.4510,  ..., -0.9373, -0.9373, -0.8039],\n",
            "          [-0.4353, -0.3725, -0.3647,  ..., -0.8902, -0.8902, -0.7804],\n",
            "          [-0.4196, -0.3647, -0.3412,  ..., -0.9059, -0.8510, -0.7412],\n",
            "          ...,\n",
            "          [ 0.2078,  0.3490,  0.3882,  ..., -0.1059, -0.0980, -0.1216],\n",
            "          [ 0.2000,  0.3333,  0.3490,  ..., -0.0980, -0.0902, -0.1216],\n",
            "          [ 0.1216,  0.2392,  0.2392,  ..., -0.1686, -0.1608, -0.1843]],\n",
            "\n",
            "         [[-0.5608, -0.4431, -0.4510,  ..., -0.9373, -0.9373, -0.8039],\n",
            "          [-0.4353, -0.3725, -0.3647,  ..., -0.8902, -0.8902, -0.7804],\n",
            "          [-0.4196, -0.3647, -0.3412,  ..., -0.9059, -0.8510, -0.7412],\n",
            "          ...,\n",
            "          [ 0.2078,  0.3490,  0.3882,  ..., -0.1059, -0.0980, -0.1216],\n",
            "          [ 0.2000,  0.3333,  0.3490,  ..., -0.0980, -0.0902, -0.1216],\n",
            "          [ 0.1216,  0.2392,  0.2392,  ..., -0.1686, -0.1608, -0.1843]],\n",
            "\n",
            "         [[-0.5608, -0.4431, -0.4510,  ..., -0.9373, -0.9373, -0.8039],\n",
            "          [-0.4353, -0.3725, -0.3647,  ..., -0.8902, -0.8902, -0.7804],\n",
            "          [-0.4196, -0.3647, -0.3412,  ..., -0.9059, -0.8510, -0.7412],\n",
            "          ...,\n",
            "          [ 0.2078,  0.3490,  0.3882,  ..., -0.1059, -0.0980, -0.1216],\n",
            "          [ 0.2000,  0.3333,  0.3490,  ..., -0.0980, -0.0902, -0.1216],\n",
            "          [ 0.1216,  0.2392,  0.2392,  ..., -0.1686, -0.1608, -0.1843]]],\n",
            "\n",
            "\n",
            "        [[[-0.7412, -0.7255, -0.7255,  ..., -0.7725, -0.7098, -0.5843],\n",
            "          [-0.7333, -0.7176, -0.7098,  ..., -0.7569, -0.7020, -0.5765],\n",
            "          [-0.7412, -0.7176, -0.7098,  ..., -0.7490, -0.7020, -0.5922],\n",
            "          ...,\n",
            "          [-0.4902, -0.5137, -0.5529,  ..., -0.6157, -0.3255, -0.1765],\n",
            "          [-0.5059, -0.5529, -0.5765,  ..., -0.6627, -0.3725, -0.2078],\n",
            "          [-0.5765, -0.6000, -0.6157,  ..., -0.7176, -0.4588, -0.2941]],\n",
            "\n",
            "         [[-0.7412, -0.7255, -0.7255,  ..., -0.7725, -0.7098, -0.5843],\n",
            "          [-0.7333, -0.7176, -0.7098,  ..., -0.7569, -0.7020, -0.5765],\n",
            "          [-0.7412, -0.7176, -0.7098,  ..., -0.7490, -0.7020, -0.5922],\n",
            "          ...,\n",
            "          [-0.4902, -0.5137, -0.5529,  ..., -0.6157, -0.3255, -0.1765],\n",
            "          [-0.5059, -0.5529, -0.5765,  ..., -0.6627, -0.3725, -0.2078],\n",
            "          [-0.5765, -0.6000, -0.6157,  ..., -0.7176, -0.4588, -0.2941]],\n",
            "\n",
            "         [[-0.7412, -0.7255, -0.7255,  ..., -0.7725, -0.7098, -0.5843],\n",
            "          [-0.7333, -0.7176, -0.7098,  ..., -0.7569, -0.7020, -0.5765],\n",
            "          [-0.7412, -0.7176, -0.7098,  ..., -0.7490, -0.7020, -0.5922],\n",
            "          ...,\n",
            "          [-0.4902, -0.5137, -0.5529,  ..., -0.6157, -0.3255, -0.1765],\n",
            "          [-0.5059, -0.5529, -0.5765,  ..., -0.6627, -0.3725, -0.2078],\n",
            "          [-0.5765, -0.6000, -0.6157,  ..., -0.7176, -0.4588, -0.2941]]],\n",
            "\n",
            "\n",
            "        [[[-1.0000, -1.0000, -1.0000,  ..., -0.9843, -0.9843, -0.9843],\n",
            "          [-1.0000, -1.0000, -1.0000,  ..., -0.9843, -0.9843, -0.9843],\n",
            "          [-1.0000, -1.0000, -1.0000,  ..., -0.9843, -0.9843, -0.9843],\n",
            "          ...,\n",
            "          [-0.3961, -0.3176, -0.2627,  ..., -0.0824, -0.1529, -0.2706],\n",
            "          [-0.3333, -0.3176, -0.2706,  ..., -0.0824, -0.1608, -0.2863],\n",
            "          [-0.4118, -0.4196, -0.3412,  ..., -0.1608, -0.2706, -0.3725]],\n",
            "\n",
            "         [[-1.0000, -1.0000, -1.0000,  ..., -0.9843, -0.9843, -0.9843],\n",
            "          [-1.0000, -1.0000, -1.0000,  ..., -0.9843, -0.9843, -0.9843],\n",
            "          [-1.0000, -1.0000, -1.0000,  ..., -0.9843, -0.9843, -0.9843],\n",
            "          ...,\n",
            "          [-0.3961, -0.3176, -0.2627,  ..., -0.0824, -0.1529, -0.2706],\n",
            "          [-0.3333, -0.3176, -0.2706,  ..., -0.0824, -0.1608, -0.2863],\n",
            "          [-0.4118, -0.4196, -0.3412,  ..., -0.1608, -0.2706, -0.3725]],\n",
            "\n",
            "         [[-1.0000, -1.0000, -1.0000,  ..., -0.9843, -0.9843, -0.9843],\n",
            "          [-1.0000, -1.0000, -1.0000,  ..., -0.9843, -0.9843, -0.9843],\n",
            "          [-1.0000, -1.0000, -1.0000,  ..., -0.9843, -0.9843, -0.9843],\n",
            "          ...,\n",
            "          [-0.3961, -0.3176, -0.2627,  ..., -0.0824, -0.1529, -0.2706],\n",
            "          [-0.3333, -0.3176, -0.2706,  ..., -0.0824, -0.1608, -0.2863],\n",
            "          [-0.4118, -0.4196, -0.3412,  ..., -0.1608, -0.2706, -0.3725]]],\n",
            "\n",
            "\n",
            "        ...,\n",
            "\n",
            "\n",
            "        [[[ 0.8353,  0.7882,  0.7333,  ...,  0.7176,  0.7412,  0.7020],\n",
            "          [ 0.7569,  0.7020,  0.5843,  ...,  0.6157,  0.6314,  0.6000],\n",
            "          [ 0.6627,  0.5137,  0.1373,  ...,  0.4745,  0.5216,  0.4824],\n",
            "          ...,\n",
            "          [-0.8667, -0.9137, -0.9373,  ..., -0.8824, -0.8824, -0.8902],\n",
            "          [-0.8588, -0.9059, -0.9373,  ..., -0.8824, -0.8824, -0.8902],\n",
            "          [-0.8431, -0.9059, -0.9294,  ..., -0.8824, -0.8745, -0.8824]],\n",
            "\n",
            "         [[ 0.8353,  0.7882,  0.7333,  ...,  0.7176,  0.7412,  0.7020],\n",
            "          [ 0.7569,  0.7020,  0.5843,  ...,  0.6157,  0.6314,  0.6000],\n",
            "          [ 0.6627,  0.5137,  0.1373,  ...,  0.4745,  0.5216,  0.4824],\n",
            "          ...,\n",
            "          [-0.8667, -0.9137, -0.9373,  ..., -0.8824, -0.8824, -0.8902],\n",
            "          [-0.8588, -0.9059, -0.9373,  ..., -0.8824, -0.8824, -0.8902],\n",
            "          [-0.8431, -0.9059, -0.9294,  ..., -0.8824, -0.8745, -0.8824]],\n",
            "\n",
            "         [[ 0.8353,  0.7882,  0.7333,  ...,  0.7176,  0.7412,  0.7020],\n",
            "          [ 0.7569,  0.7020,  0.5843,  ...,  0.6157,  0.6314,  0.6000],\n",
            "          [ 0.6627,  0.5137,  0.1373,  ...,  0.4745,  0.5216,  0.4824],\n",
            "          ...,\n",
            "          [-0.8667, -0.9137, -0.9373,  ..., -0.8824, -0.8824, -0.8902],\n",
            "          [-0.8588, -0.9059, -0.9373,  ..., -0.8824, -0.8824, -0.8902],\n",
            "          [-0.8431, -0.9059, -0.9294,  ..., -0.8824, -0.8745, -0.8824]]],\n",
            "\n",
            "\n",
            "        [[[ 0.7255,  0.6941,  0.6706,  ...,  0.6549,  0.6863,  0.6471],\n",
            "          [ 0.6627,  0.6235,  0.7098,  ...,  0.6941,  0.7412,  0.7098],\n",
            "          [ 0.6863,  0.6314,  0.5843,  ...,  0.5922,  0.6392,  0.6314],\n",
            "          ...,\n",
            "          [-0.6000, -0.7961, -0.8667,  ..., -0.8431, -0.6000, -0.2000],\n",
            "          [-0.5922, -0.7882, -0.8667,  ..., -0.8275, -0.5843, -0.1843],\n",
            "          [-0.5765, -0.7725, -0.8588,  ..., -0.8118, -0.5765, -0.1608]],\n",
            "\n",
            "         [[ 0.7255,  0.6941,  0.6706,  ...,  0.6549,  0.6863,  0.6471],\n",
            "          [ 0.6627,  0.6235,  0.7098,  ...,  0.6941,  0.7412,  0.7098],\n",
            "          [ 0.6863,  0.6314,  0.5843,  ...,  0.5922,  0.6392,  0.6314],\n",
            "          ...,\n",
            "          [-0.6000, -0.7961, -0.8667,  ..., -0.8431, -0.6000, -0.2000],\n",
            "          [-0.5922, -0.7882, -0.8667,  ..., -0.8275, -0.5843, -0.1843],\n",
            "          [-0.5765, -0.7725, -0.8588,  ..., -0.8118, -0.5765, -0.1608]],\n",
            "\n",
            "         [[ 0.7255,  0.6941,  0.6706,  ...,  0.6549,  0.6863,  0.6471],\n",
            "          [ 0.6627,  0.6235,  0.7098,  ...,  0.6941,  0.7412,  0.7098],\n",
            "          [ 0.6863,  0.6314,  0.5843,  ...,  0.5922,  0.6392,  0.6314],\n",
            "          ...,\n",
            "          [-0.6000, -0.7961, -0.8667,  ..., -0.8431, -0.6000, -0.2000],\n",
            "          [-0.5922, -0.7882, -0.8667,  ..., -0.8275, -0.5843, -0.1843],\n",
            "          [-0.5765, -0.7725, -0.8588,  ..., -0.8118, -0.5765, -0.1608]]],\n",
            "\n",
            "\n",
            "        [[[-0.8196, -0.9529, -1.0000,  ..., -1.0000, -1.0000, -1.0000],\n",
            "          [-0.8275, -0.9529, -1.0000,  ..., -1.0000, -1.0000, -1.0000],\n",
            "          [-0.8353, -0.9608, -1.0000,  ..., -1.0000, -1.0000, -1.0000],\n",
            "          ...,\n",
            "          [-0.0980, -0.0275,  0.0588,  ...,  0.3961,  0.5216,  0.4745],\n",
            "          [ 0.1373,  0.2078,  0.2863,  ...,  0.4118,  0.5294,  0.4745],\n",
            "          [ 0.3882,  0.4510,  0.5137,  ...,  0.4196,  0.5294,  0.4745]],\n",
            "\n",
            "         [[-0.8196, -0.9529, -1.0000,  ..., -1.0000, -1.0000, -1.0000],\n",
            "          [-0.8275, -0.9529, -1.0000,  ..., -1.0000, -1.0000, -1.0000],\n",
            "          [-0.8353, -0.9608, -1.0000,  ..., -1.0000, -1.0000, -1.0000],\n",
            "          ...,\n",
            "          [-0.0980, -0.0275,  0.0588,  ...,  0.3961,  0.5216,  0.4745],\n",
            "          [ 0.1373,  0.2078,  0.2863,  ...,  0.4118,  0.5294,  0.4745],\n",
            "          [ 0.3882,  0.4510,  0.5137,  ...,  0.4196,  0.5294,  0.4745]],\n",
            "\n",
            "         [[-0.8196, -0.9529, -1.0000,  ..., -1.0000, -1.0000, -1.0000],\n",
            "          [-0.8275, -0.9529, -1.0000,  ..., -1.0000, -1.0000, -1.0000],\n",
            "          [-0.8353, -0.9608, -1.0000,  ..., -1.0000, -1.0000, -1.0000],\n",
            "          ...,\n",
            "          [-0.0980, -0.0275,  0.0588,  ...,  0.3961,  0.5216,  0.4745],\n",
            "          [ 0.1373,  0.2078,  0.2863,  ...,  0.4118,  0.5294,  0.4745],\n",
            "          [ 0.3882,  0.4510,  0.5137,  ...,  0.4196,  0.5294,  0.4745]]]])\n"
          ]
        },
        {
          "name": "stderr",
          "output_type": "stream",
          "text": [
            "\n"
          ]
        }
      ],
      "source": [
        "from src.dataloader.medical_dataset import NIHChestXrayDataset\n",
        "\n",
        "dataset = NIHChestXrayDataset(\n",
        "        metadata_file=\"../data/nihcc_chest_xray/nihcc_chest_xray_training_samples.csv\",\n",
        "        image_dir=\"../data/nihcc_chest_xray/xray_images/\",\n",
        "        frac=0.01,\n",
        "        isTest=False,\n",
        "    )\n",
        "\n",
        "train_loader = data.DataLoader(\n",
        "        dataset,\n",
        "        batch_size=10,\n",
        "        shuffle=True,\n",
        "    )\n",
        "\n",
        "for inputs, targets in tqdm(train_loader):\n",
        "        # inputs, targets = inputs.cuda(), targets.cuda()\n",
        "    print(targets.shape)\n",
        "    print(targets)\n",
        "    print(inputs.shape)\n",
        "    print(inputs)\n",
        "    break\n"
      ]
    },
    {
      "cell_type": "code",
      "execution_count": 17,
      "metadata": {},
      "outputs": [
        {
          "name": "stdout",
          "output_type": "stream",
          "text": [
            "torch.Size([10, 3, 224, 224]) torch.Size([10, 14])\n",
            "(224, 224, 3)\n"
          ]
        }
      ],
      "source": [
        "show_sample_image()"
      ]
    },
    {
      "cell_type": "markdown",
      "metadata": {
        "id": "g-ImKp2m9cLf"
      },
      "source": [
        "## Train"
      ]
    },
    {
      "cell_type": "code",
      "execution_count": 22,
      "metadata": {
        "id": "gMy_aJrE9eeM"
      },
      "outputs": [],
      "source": [
        "# define loss function and optimizer\n",
        "if task == \"multi-label, binary-class\":\n",
        "    criterion = nn.BCEWithLogitsLoss()\n",
        "else:\n",
        "    criterion = nn.CrossEntropyLoss()\n",
        "    \n",
        "optimizer = optim.SGD(model.parameters(), lr=lr, momentum=0.9)"
      ]
    },
    {
      "cell_type": "code",
      "execution_count": 16,
      "metadata": {},
      "outputs": [
        {
          "data": {
            "text/plain": [
              "BCEWithLogitsLoss()"
            ]
          },
          "execution_count": 16,
          "metadata": {},
          "output_type": "execute_result"
        }
      ],
      "source": [
        "criterion"
      ]
    },
    {
      "cell_type": "code",
      "execution_count": 17,
      "metadata": {},
      "outputs": [
        {
          "data": {
            "text/plain": [
              "SGD (\n",
              "Parameter Group 0\n",
              "    dampening: 0\n",
              "    differentiable: False\n",
              "    foreach: None\n",
              "    fused: None\n",
              "    lr: 0.005\n",
              "    maximize: False\n",
              "    momentum: 0.9\n",
              "    nesterov: False\n",
              "    weight_decay: 0\n",
              ")"
            ]
          },
          "execution_count": 17,
          "metadata": {},
          "output_type": "execute_result"
        }
      ],
      "source": [
        "optimizer"
      ]
    },
    {
      "cell_type": "code",
      "execution_count": 21,
      "metadata": {
        "colab": {
          "base_uri": "https://localhost:8080/"
        },
        "id": "KmIo3JWf9lEs",
        "outputId": "822ffbe4-b700-450b-adcc-777a69286208"
      },
      "outputs": [
        {
          "name": "stdout",
          "output_type": "stream",
          "text": [
            "Epoch [1/10]\n"
          ]
        },
        {
          "name": "stderr",
          "output_type": "stream",
          "text": [
            "  0%|          | 0/7847 [00:00<?, ?it/s]"
          ]
        },
        {
          "name": "stdout",
          "output_type": "stream",
          "text": [
            "tensor(0.6982, grad_fn=<BinaryCrossEntropyWithLogitsBackward0>)\n"
          ]
        },
        {
          "name": "stderr",
          "output_type": "stream",
          "text": [
            "  0%|          | 1/7847 [00:32<70:29:24, 32.34s/it]"
          ]
        },
        {
          "name": "stdout",
          "output_type": "stream",
          "text": [
            "tensor(0.6916, grad_fn=<BinaryCrossEntropyWithLogitsBackward0>)\n"
          ]
        },
        {
          "name": "stderr",
          "output_type": "stream",
          "text": [
            "  0%|          | 2/7847 [01:04<70:44:41, 32.46s/it]"
          ]
        },
        {
          "name": "stdout",
          "output_type": "stream",
          "text": [
            "tensor(0.6911, grad_fn=<BinaryCrossEntropyWithLogitsBackward0>)\n"
          ]
        },
        {
          "name": "stderr",
          "output_type": "stream",
          "text": [
            "  0%|          | 3/7847 [01:39<72:51:06, 33.44s/it]"
          ]
        },
        {
          "name": "stdout",
          "output_type": "stream",
          "text": [
            "tensor(0.6995, grad_fn=<BinaryCrossEntropyWithLogitsBackward0>)\n"
          ]
        },
        {
          "name": "stderr",
          "output_type": "stream",
          "text": [
            "  0%|          | 4/7847 [02:11<72:01:02, 33.06s/it]"
          ]
        },
        {
          "name": "stdout",
          "output_type": "stream",
          "text": [
            "tensor(0.6939, grad_fn=<BinaryCrossEntropyWithLogitsBackward0>)\n"
          ]
        },
        {
          "name": "stderr",
          "output_type": "stream",
          "text": [
            "  0%|          | 5/7847 [02:42<70:07:44, 32.19s/it]"
          ]
        },
        {
          "name": "stdout",
          "output_type": "stream",
          "text": [
            "tensor(0.6953, grad_fn=<BinaryCrossEntropyWithLogitsBackward0>)\n"
          ]
        },
        {
          "name": "stderr",
          "output_type": "stream",
          "text": [
            "  0%|          | 6/7847 [03:14<69:51:00, 32.07s/it]"
          ]
        },
        {
          "name": "stdout",
          "output_type": "stream",
          "text": [
            "tensor(0.6931, grad_fn=<BinaryCrossEntropyWithLogitsBackward0>)\n"
          ]
        },
        {
          "name": "stderr",
          "output_type": "stream",
          "text": [
            "  0%|          | 7/7847 [03:44<68:13:20, 31.33s/it]"
          ]
        },
        {
          "name": "stdout",
          "output_type": "stream",
          "text": [
            "tensor(0.6939, grad_fn=<BinaryCrossEntropyWithLogitsBackward0>)\n"
          ]
        },
        {
          "name": "stderr",
          "output_type": "stream",
          "text": [
            "  0%|          | 8/7847 [04:14<67:29:14, 30.99s/it]"
          ]
        },
        {
          "name": "stdout",
          "output_type": "stream",
          "text": [
            "tensor(0.6926, grad_fn=<BinaryCrossEntropyWithLogitsBackward0>)\n"
          ]
        },
        {
          "name": "stderr",
          "output_type": "stream",
          "text": [
            "  0%|          | 9/7847 [04:44<67:02:54, 30.80s/it]"
          ]
        },
        {
          "name": "stdout",
          "output_type": "stream",
          "text": [
            "tensor(0.6931, grad_fn=<BinaryCrossEntropyWithLogitsBackward0>)\n"
          ]
        },
        {
          "name": "stderr",
          "output_type": "stream",
          "text": [
            "  0%|          | 10/7847 [05:14<66:27:48, 30.53s/it]"
          ]
        },
        {
          "name": "stdout",
          "output_type": "stream",
          "text": [
            "tensor(0.6947, grad_fn=<BinaryCrossEntropyWithLogitsBackward0>)\n"
          ]
        },
        {
          "name": "stderr",
          "output_type": "stream",
          "text": [
            "  0%|          | 11/7847 [05:44<66:05:38, 30.36s/it]"
          ]
        },
        {
          "name": "stdout",
          "output_type": "stream",
          "text": [
            "tensor(0.6920, grad_fn=<BinaryCrossEntropyWithLogitsBackward0>)\n"
          ]
        },
        {
          "name": "stderr",
          "output_type": "stream",
          "text": [
            "  0%|          | 12/7847 [06:14<65:49:48, 30.25s/it]"
          ]
        },
        {
          "name": "stdout",
          "output_type": "stream",
          "text": [
            "tensor(0.6919, grad_fn=<BinaryCrossEntropyWithLogitsBackward0>)\n"
          ]
        },
        {
          "name": "stderr",
          "output_type": "stream",
          "text": [
            "  0%|          | 13/7847 [06:45<65:49:09, 30.25s/it]"
          ]
        },
        {
          "name": "stdout",
          "output_type": "stream",
          "text": [
            "tensor(0.6914, grad_fn=<BinaryCrossEntropyWithLogitsBackward0>)\n"
          ]
        },
        {
          "name": "stderr",
          "output_type": "stream",
          "text": [
            "  0%|          | 14/7847 [07:15<66:01:10, 30.34s/it]"
          ]
        },
        {
          "name": "stdout",
          "output_type": "stream",
          "text": [
            "tensor(0.6899, grad_fn=<BinaryCrossEntropyWithLogitsBackward0>)\n"
          ]
        },
        {
          "name": "stderr",
          "output_type": "stream",
          "text": [
            "  0%|          | 15/7847 [07:46<66:28:06, 30.55s/it]"
          ]
        },
        {
          "name": "stdout",
          "output_type": "stream",
          "text": [
            "tensor(0.6892, grad_fn=<BinaryCrossEntropyWithLogitsBackward0>)\n"
          ]
        },
        {
          "name": "stderr",
          "output_type": "stream",
          "text": [
            "  0%|          | 16/7847 [08:18<67:10:01, 30.88s/it]"
          ]
        },
        {
          "name": "stdout",
          "output_type": "stream",
          "text": [
            "tensor(0.6877, grad_fn=<BinaryCrossEntropyWithLogitsBackward0>)\n"
          ]
        },
        {
          "name": "stderr",
          "output_type": "stream",
          "text": [
            "  0%|          | 17/7847 [08:52<69:20:05, 31.88s/it]"
          ]
        },
        {
          "name": "stdout",
          "output_type": "stream",
          "text": [
            "tensor(0.6844, grad_fn=<BinaryCrossEntropyWithLogitsBackward0>)\n"
          ]
        },
        {
          "name": "stderr",
          "output_type": "stream",
          "text": [
            "  0%|          | 18/7847 [09:26<70:40:07, 32.50s/it]"
          ]
        },
        {
          "name": "stdout",
          "output_type": "stream",
          "text": [
            "tensor(0.6813, grad_fn=<BinaryCrossEntropyWithLogitsBackward0>)\n"
          ]
        },
        {
          "name": "stderr",
          "output_type": "stream",
          "text": [
            "  0%|          | 19/7847 [10:01<72:02:53, 33.13s/it]"
          ]
        },
        {
          "name": "stdout",
          "output_type": "stream",
          "text": [
            "tensor(0.6867, grad_fn=<BinaryCrossEntropyWithLogitsBackward0>)\n"
          ]
        },
        {
          "name": "stderr",
          "output_type": "stream",
          "text": [
            "  0%|          | 20/7847 [10:32<70:49:00, 32.57s/it]"
          ]
        },
        {
          "name": "stdout",
          "output_type": "stream",
          "text": [
            "tensor(0.6825, grad_fn=<BinaryCrossEntropyWithLogitsBackward0>)\n"
          ]
        },
        {
          "name": "stderr",
          "output_type": "stream",
          "text": [
            "  0%|          | 21/7847 [11:02<69:04:16, 31.77s/it]"
          ]
        },
        {
          "name": "stdout",
          "output_type": "stream",
          "text": [
            "tensor(0.6800, grad_fn=<BinaryCrossEntropyWithLogitsBackward0>)\n"
          ]
        },
        {
          "name": "stderr",
          "output_type": "stream",
          "text": [
            "  0%|          | 22/7847 [11:33<68:56:05, 31.71s/it]"
          ]
        },
        {
          "name": "stdout",
          "output_type": "stream",
          "text": [
            "tensor(0.6809, grad_fn=<BinaryCrossEntropyWithLogitsBackward0>)\n"
          ]
        },
        {
          "name": "stderr",
          "output_type": "stream",
          "text": [
            "  0%|          | 23/7847 [12:03<67:32:50, 31.08s/it]"
          ]
        },
        {
          "name": "stdout",
          "output_type": "stream",
          "text": [
            "tensor(0.6837, grad_fn=<BinaryCrossEntropyWithLogitsBackward0>)\n"
          ]
        },
        {
          "name": "stderr",
          "output_type": "stream",
          "text": [
            "  0%|          | 24/7847 [12:33<66:46:45, 30.73s/it]"
          ]
        },
        {
          "name": "stdout",
          "output_type": "stream",
          "text": [
            "tensor(0.6785, grad_fn=<BinaryCrossEntropyWithLogitsBackward0>)\n"
          ]
        },
        {
          "name": "stderr",
          "output_type": "stream",
          "text": [
            "  0%|          | 25/7847 [13:03<66:17:11, 30.51s/it]"
          ]
        },
        {
          "name": "stdout",
          "output_type": "stream",
          "text": [
            "tensor(0.6785, grad_fn=<BinaryCrossEntropyWithLogitsBackward0>)\n"
          ]
        },
        {
          "name": "stderr",
          "output_type": "stream",
          "text": [
            "  0%|          | 26/7847 [13:33<65:47:20, 30.28s/it]"
          ]
        },
        {
          "name": "stdout",
          "output_type": "stream",
          "text": [
            "tensor(0.6736, grad_fn=<BinaryCrossEntropyWithLogitsBackward0>)\n"
          ]
        },
        {
          "name": "stderr",
          "output_type": "stream",
          "text": [
            "  0%|          | 27/7847 [14:05<67:18:55, 30.99s/it]"
          ]
        },
        {
          "name": "stdout",
          "output_type": "stream",
          "text": [
            "tensor(0.6839, grad_fn=<BinaryCrossEntropyWithLogitsBackward0>)\n"
          ]
        },
        {
          "name": "stderr",
          "output_type": "stream",
          "text": [
            "  0%|          | 28/7847 [14:35<66:45:22, 30.74s/it]"
          ]
        },
        {
          "name": "stdout",
          "output_type": "stream",
          "text": [
            "tensor(0.6763, grad_fn=<BinaryCrossEntropyWithLogitsBackward0>)\n"
          ]
        },
        {
          "name": "stderr",
          "output_type": "stream",
          "text": [
            "  0%|          | 29/7847 [15:05<66:21:48, 30.56s/it]"
          ]
        },
        {
          "name": "stdout",
          "output_type": "stream",
          "text": [
            "tensor(0.6819, grad_fn=<BinaryCrossEntropyWithLogitsBackward0>)\n"
          ]
        },
        {
          "name": "stderr",
          "output_type": "stream",
          "text": [
            "  0%|          | 30/7847 [15:35<65:44:26, 30.28s/it]"
          ]
        },
        {
          "name": "stdout",
          "output_type": "stream",
          "text": [
            "tensor(0.6747, grad_fn=<BinaryCrossEntropyWithLogitsBackward0>)\n"
          ]
        },
        {
          "name": "stderr",
          "output_type": "stream",
          "text": [
            "  0%|          | 31/7847 [16:06<66:06:05, 30.45s/it]"
          ]
        },
        {
          "name": "stdout",
          "output_type": "stream",
          "text": [
            "tensor(0.6749, grad_fn=<BinaryCrossEntropyWithLogitsBackward0>)\n"
          ]
        },
        {
          "name": "stderr",
          "output_type": "stream",
          "text": [
            "  0%|          | 32/7847 [16:39<67:44:57, 31.21s/it]"
          ]
        },
        {
          "name": "stdout",
          "output_type": "stream",
          "text": [
            "tensor(0.6783, grad_fn=<BinaryCrossEntropyWithLogitsBackward0>)\n"
          ]
        },
        {
          "name": "stderr",
          "output_type": "stream",
          "text": [
            "  0%|          | 33/7847 [17:09<66:41:55, 30.73s/it]"
          ]
        },
        {
          "name": "stdout",
          "output_type": "stream",
          "text": [
            "tensor(0.6733, grad_fn=<BinaryCrossEntropyWithLogitsBackward0>)\n"
          ]
        },
        {
          "name": "stderr",
          "output_type": "stream",
          "text": [
            "  0%|          | 34/7847 [17:38<66:01:03, 30.42s/it]"
          ]
        },
        {
          "name": "stdout",
          "output_type": "stream",
          "text": [
            "tensor(0.6746, grad_fn=<BinaryCrossEntropyWithLogitsBackward0>)\n"
          ]
        },
        {
          "name": "stderr",
          "output_type": "stream",
          "text": [
            "  0%|          | 35/7847 [18:08<65:28:35, 30.17s/it]"
          ]
        },
        {
          "name": "stdout",
          "output_type": "stream",
          "text": [
            "tensor(0.6725, grad_fn=<BinaryCrossEntropyWithLogitsBackward0>)\n"
          ]
        },
        {
          "name": "stderr",
          "output_type": "stream",
          "text": [
            "  0%|          | 36/7847 [18:39<66:25:05, 30.61s/it]"
          ]
        },
        {
          "name": "stdout",
          "output_type": "stream",
          "text": [
            "tensor(0.6708, grad_fn=<BinaryCrossEntropyWithLogitsBackward0>)\n"
          ]
        },
        {
          "name": "stderr",
          "output_type": "stream",
          "text": [
            "  0%|          | 37/7847 [19:11<67:00:55, 30.89s/it]"
          ]
        },
        {
          "name": "stdout",
          "output_type": "stream",
          "text": [
            "tensor(0.6691, grad_fn=<BinaryCrossEntropyWithLogitsBackward0>)\n"
          ]
        },
        {
          "name": "stderr",
          "output_type": "stream",
          "text": [
            "  0%|          | 38/7847 [19:42<67:08:30, 30.95s/it]"
          ]
        },
        {
          "name": "stdout",
          "output_type": "stream",
          "text": [
            "tensor(0.6685, grad_fn=<BinaryCrossEntropyWithLogitsBackward0>)\n"
          ]
        },
        {
          "name": "stderr",
          "output_type": "stream",
          "text": [
            "  0%|          | 39/7847 [20:13<66:47:47, 30.80s/it]"
          ]
        },
        {
          "name": "stdout",
          "output_type": "stream",
          "text": [
            "tensor(0.6693, grad_fn=<BinaryCrossEntropyWithLogitsBackward0>)\n"
          ]
        },
        {
          "name": "stderr",
          "output_type": "stream",
          "text": [
            "  1%|          | 40/7847 [20:43<66:38:39, 30.73s/it]"
          ]
        },
        {
          "name": "stdout",
          "output_type": "stream",
          "text": [
            "tensor(0.6677, grad_fn=<BinaryCrossEntropyWithLogitsBackward0>)\n"
          ]
        },
        {
          "name": "stderr",
          "output_type": "stream",
          "text": [
            "  1%|          | 41/7847 [21:13<66:24:22, 30.63s/it]"
          ]
        },
        {
          "name": "stdout",
          "output_type": "stream",
          "text": [
            "tensor(0.6709, grad_fn=<BinaryCrossEntropyWithLogitsBackward0>)\n"
          ]
        },
        {
          "name": "stderr",
          "output_type": "stream",
          "text": [
            "  1%|          | 42/7847 [21:44<66:14:41, 30.55s/it]"
          ]
        },
        {
          "name": "stdout",
          "output_type": "stream",
          "text": [
            "tensor(0.6661, grad_fn=<BinaryCrossEntropyWithLogitsBackward0>)\n"
          ]
        },
        {
          "name": "stderr",
          "output_type": "stream",
          "text": [
            "  1%|          | 43/7847 [22:13<65:37:33, 30.27s/it]"
          ]
        },
        {
          "name": "stdout",
          "output_type": "stream",
          "text": [
            "tensor(0.6634, grad_fn=<BinaryCrossEntropyWithLogitsBackward0>)\n"
          ]
        },
        {
          "name": "stderr",
          "output_type": "stream",
          "text": [
            "  1%|          | 44/7847 [22:43<65:17:25, 30.12s/it]"
          ]
        },
        {
          "name": "stdout",
          "output_type": "stream",
          "text": [
            "tensor(0.6636, grad_fn=<BinaryCrossEntropyWithLogitsBackward0>)\n"
          ]
        },
        {
          "name": "stderr",
          "output_type": "stream",
          "text": [
            "  1%|          | 45/7847 [23:13<65:05:59, 30.04s/it]"
          ]
        },
        {
          "name": "stdout",
          "output_type": "stream",
          "text": [
            "tensor(0.6597, grad_fn=<BinaryCrossEntropyWithLogitsBackward0>)\n"
          ]
        },
        {
          "name": "stderr",
          "output_type": "stream",
          "text": [
            "  1%|          | 46/7847 [23:43<65:14:24, 30.11s/it]"
          ]
        },
        {
          "name": "stdout",
          "output_type": "stream",
          "text": [
            "tensor(0.6570, grad_fn=<BinaryCrossEntropyWithLogitsBackward0>)\n"
          ]
        },
        {
          "name": "stderr",
          "output_type": "stream",
          "text": [
            "  1%|          | 47/7847 [24:13<64:59:35, 30.00s/it]"
          ]
        },
        {
          "name": "stdout",
          "output_type": "stream",
          "text": [
            "tensor(0.6633, grad_fn=<BinaryCrossEntropyWithLogitsBackward0>)\n"
          ]
        },
        {
          "name": "stderr",
          "output_type": "stream",
          "text": [
            "  1%|          | 48/7847 [24:43<64:44:32, 29.88s/it]"
          ]
        },
        {
          "name": "stdout",
          "output_type": "stream",
          "text": [
            "tensor(0.6606, grad_fn=<BinaryCrossEntropyWithLogitsBackward0>)\n"
          ]
        },
        {
          "name": "stderr",
          "output_type": "stream",
          "text": [
            "  1%|          | 49/7847 [25:12<64:30:11, 29.78s/it]"
          ]
        },
        {
          "name": "stdout",
          "output_type": "stream",
          "text": [
            "tensor(0.6569, grad_fn=<BinaryCrossEntropyWithLogitsBackward0>)\n"
          ]
        },
        {
          "name": "stderr",
          "output_type": "stream",
          "text": [
            "  1%|          | 50/7847 [25:42<64:39:39, 29.85s/it]"
          ]
        },
        {
          "name": "stdout",
          "output_type": "stream",
          "text": [
            "tensor(0.6576, grad_fn=<BinaryCrossEntropyWithLogitsBackward0>)\n"
          ]
        },
        {
          "name": "stderr",
          "output_type": "stream",
          "text": [
            "  1%|          | 51/7847 [26:12<64:22:43, 29.73s/it]"
          ]
        },
        {
          "name": "stdout",
          "output_type": "stream",
          "text": [
            "tensor(0.6534, grad_fn=<BinaryCrossEntropyWithLogitsBackward0>)\n"
          ]
        },
        {
          "name": "stderr",
          "output_type": "stream",
          "text": [
            "  1%|          | 52/7847 [26:42<64:23:50, 29.74s/it]"
          ]
        },
        {
          "name": "stdout",
          "output_type": "stream",
          "text": [
            "tensor(0.6502, grad_fn=<BinaryCrossEntropyWithLogitsBackward0>)\n"
          ]
        },
        {
          "name": "stderr",
          "output_type": "stream",
          "text": [
            "  1%|          | 53/7847 [27:11<64:14:22, 29.67s/it]"
          ]
        },
        {
          "name": "stdout",
          "output_type": "stream",
          "text": [
            "tensor(0.6581, grad_fn=<BinaryCrossEntropyWithLogitsBackward0>)\n"
          ]
        },
        {
          "name": "stderr",
          "output_type": "stream",
          "text": [
            "  1%|          | 54/7847 [27:41<64:27:28, 29.78s/it]"
          ]
        },
        {
          "name": "stdout",
          "output_type": "stream",
          "text": [
            "tensor(0.6530, grad_fn=<BinaryCrossEntropyWithLogitsBackward0>)\n"
          ]
        },
        {
          "name": "stderr",
          "output_type": "stream",
          "text": [
            "  1%|          | 55/7847 [28:11<64:16:37, 29.70s/it]"
          ]
        },
        {
          "name": "stdout",
          "output_type": "stream",
          "text": [
            "tensor(0.6531, grad_fn=<BinaryCrossEntropyWithLogitsBackward0>)\n"
          ]
        },
        {
          "name": "stderr",
          "output_type": "stream",
          "text": [
            "  1%|          | 56/7847 [28:40<64:11:44, 29.66s/it]"
          ]
        },
        {
          "name": "stdout",
          "output_type": "stream",
          "text": [
            "tensor(0.6598, grad_fn=<BinaryCrossEntropyWithLogitsBackward0>)\n"
          ]
        },
        {
          "name": "stderr",
          "output_type": "stream",
          "text": [
            "  1%|          | 57/7847 [29:10<64:04:12, 29.61s/it]"
          ]
        },
        {
          "name": "stdout",
          "output_type": "stream",
          "text": [
            "tensor(0.6536, grad_fn=<BinaryCrossEntropyWithLogitsBackward0>)\n"
          ]
        },
        {
          "name": "stderr",
          "output_type": "stream",
          "text": [
            "  1%|          | 58/7847 [29:40<64:17:02, 29.71s/it]"
          ]
        },
        {
          "name": "stdout",
          "output_type": "stream",
          "text": [
            "tensor(0.6448, grad_fn=<BinaryCrossEntropyWithLogitsBackward0>)\n"
          ]
        },
        {
          "name": "stderr",
          "output_type": "stream",
          "text": [
            "  1%|          | 59/7847 [30:09<64:14:03, 29.69s/it]"
          ]
        },
        {
          "name": "stdout",
          "output_type": "stream",
          "text": [
            "tensor(0.6429, grad_fn=<BinaryCrossEntropyWithLogitsBackward0>)\n"
          ]
        },
        {
          "name": "stderr",
          "output_type": "stream",
          "text": [
            "  1%|          | 60/7847 [30:39<64:05:35, 29.63s/it]"
          ]
        },
        {
          "name": "stdout",
          "output_type": "stream",
          "text": [
            "tensor(0.6564, grad_fn=<BinaryCrossEntropyWithLogitsBackward0>)\n"
          ]
        },
        {
          "name": "stderr",
          "output_type": "stream",
          "text": [
            "  1%|          | 61/7847 [31:08<63:56:28, 29.56s/it]"
          ]
        },
        {
          "name": "stdout",
          "output_type": "stream",
          "text": [
            "tensor(0.6438, grad_fn=<BinaryCrossEntropyWithLogitsBackward0>)\n"
          ]
        },
        {
          "name": "stderr",
          "output_type": "stream",
          "text": [
            "  1%|          | 62/7847 [31:38<64:16:31, 29.72s/it]"
          ]
        },
        {
          "name": "stdout",
          "output_type": "stream",
          "text": [
            "tensor(0.6513, grad_fn=<BinaryCrossEntropyWithLogitsBackward0>)\n"
          ]
        },
        {
          "name": "stderr",
          "output_type": "stream",
          "text": [
            "  1%|          | 63/7847 [32:09<65:03:30, 30.09s/it]"
          ]
        },
        {
          "name": "stdout",
          "output_type": "stream",
          "text": [
            "tensor(0.6464, grad_fn=<BinaryCrossEntropyWithLogitsBackward0>)\n"
          ]
        },
        {
          "name": "stderr",
          "output_type": "stream",
          "text": [
            "  1%|          | 64/7847 [32:40<65:36:47, 30.35s/it]"
          ]
        },
        {
          "name": "stdout",
          "output_type": "stream",
          "text": [
            "tensor(0.6468, grad_fn=<BinaryCrossEntropyWithLogitsBackward0>)\n"
          ]
        },
        {
          "name": "stderr",
          "output_type": "stream",
          "text": [
            "  1%|          | 65/7847 [33:10<65:35:11, 30.34s/it]"
          ]
        },
        {
          "name": "stdout",
          "output_type": "stream",
          "text": [
            "tensor(0.6424, grad_fn=<BinaryCrossEntropyWithLogitsBackward0>)\n"
          ]
        },
        {
          "name": "stderr",
          "output_type": "stream",
          "text": [
            "  1%|          | 66/7847 [33:40<65:00:42, 30.08s/it]"
          ]
        },
        {
          "name": "stdout",
          "output_type": "stream",
          "text": [
            "tensor(0.6413, grad_fn=<BinaryCrossEntropyWithLogitsBackward0>)\n"
          ]
        },
        {
          "name": "stderr",
          "output_type": "stream",
          "text": [
            "  1%|          | 67/7847 [34:10<64:50:29, 30.00s/it]"
          ]
        },
        {
          "name": "stdout",
          "output_type": "stream",
          "text": [
            "tensor(0.6415, grad_fn=<BinaryCrossEntropyWithLogitsBackward0>)\n"
          ]
        },
        {
          "name": "stderr",
          "output_type": "stream",
          "text": [
            "  1%|          | 68/7847 [34:45<68:18:19, 31.61s/it]"
          ]
        },
        {
          "name": "stdout",
          "output_type": "stream",
          "text": [
            "tensor(0.6400, grad_fn=<BinaryCrossEntropyWithLogitsBackward0>)\n"
          ]
        },
        {
          "name": "stderr",
          "output_type": "stream",
          "text": [
            "  1%|          | 69/7847 [35:18<69:27:11, 32.15s/it]"
          ]
        },
        {
          "name": "stdout",
          "output_type": "stream",
          "text": [
            "tensor(0.6331, grad_fn=<BinaryCrossEntropyWithLogitsBackward0>)\n"
          ]
        },
        {
          "name": "stderr",
          "output_type": "stream",
          "text": [
            "  1%|          | 70/7847 [35:51<69:49:50, 32.32s/it]"
          ]
        },
        {
          "name": "stdout",
          "output_type": "stream",
          "text": [
            "tensor(0.6392, grad_fn=<BinaryCrossEntropyWithLogitsBackward0>)\n"
          ]
        },
        {
          "name": "stderr",
          "output_type": "stream",
          "text": [
            "  1%|          | 71/7847 [36:23<69:23:40, 32.13s/it]"
          ]
        },
        {
          "name": "stdout",
          "output_type": "stream",
          "text": [
            "tensor(0.6303, grad_fn=<BinaryCrossEntropyWithLogitsBackward0>)\n"
          ]
        },
        {
          "name": "stderr",
          "output_type": "stream",
          "text": [
            "  1%|          | 72/7847 [36:55<69:30:40, 32.19s/it]"
          ]
        },
        {
          "name": "stdout",
          "output_type": "stream",
          "text": [
            "tensor(0.6402, grad_fn=<BinaryCrossEntropyWithLogitsBackward0>)\n"
          ]
        },
        {
          "name": "stderr",
          "output_type": "stream",
          "text": [
            "  1%|          | 73/7847 [37:27<69:25:39, 32.15s/it]"
          ]
        },
        {
          "name": "stdout",
          "output_type": "stream",
          "text": [
            "tensor(0.6377, grad_fn=<BinaryCrossEntropyWithLogitsBackward0>)\n"
          ]
        },
        {
          "name": "stderr",
          "output_type": "stream",
          "text": [
            "  1%|          | 74/7847 [38:01<70:41:27, 32.74s/it]"
          ]
        },
        {
          "name": "stdout",
          "output_type": "stream",
          "text": [
            "tensor(0.6334, grad_fn=<BinaryCrossEntropyWithLogitsBackward0>)\n"
          ]
        },
        {
          "name": "stderr",
          "output_type": "stream",
          "text": [
            "  1%|          | 75/7847 [38:34<70:29:33, 32.65s/it]"
          ]
        },
        {
          "name": "stdout",
          "output_type": "stream",
          "text": [
            "tensor(0.6349, grad_fn=<BinaryCrossEntropyWithLogitsBackward0>)\n"
          ]
        },
        {
          "name": "stderr",
          "output_type": "stream",
          "text": [
            "  1%|          | 76/7847 [39:06<70:22:09, 32.60s/it]"
          ]
        },
        {
          "name": "stdout",
          "output_type": "stream",
          "text": [
            "tensor(0.6274, grad_fn=<BinaryCrossEntropyWithLogitsBackward0>)\n"
          ]
        }
      ],
      "source": [
        "# train\n",
        "\n",
        "for epoch in range(NUM_EPOCHS):\n",
        "    train_correct = 0\n",
        "    train_total = 0\n",
        "    test_correct = 0\n",
        "    test_total = 0\n",
        "    print('Epoch [%d/%d]'% (epoch+1, NUM_EPOCHS))\n",
        "    model.train()\n",
        "    for inputs, targets in tqdm(train_loader):\n",
        "        # inputs, targets = inputs.cuda(), targets.cuda()\n",
        "        # forward + backward + optimize\n",
        "        optimizer.zero_grad()\n",
        "        outputs = model(inputs)\n",
        "        \n",
        "        if task == 'multi-label, binary-class':\n",
        "            targets = targets.to(torch.float32)\n",
        "            loss = criterion(outputs, targets)\n",
        "        else:\n",
        "            targets = targets.squeeze().long()\n",
        "            loss = criterion(outputs, targets)\n",
        "        print(loss)\n",
        "        loss.backward()\n",
        "        optimizer.step()"
      ]
    },
    {
      "cell_type": "markdown",
      "metadata": {
        "id": "XRkfM6CM91j8"
      },
      "source": [
        "##Test"
      ]
    },
    {
      "cell_type": "code",
      "execution_count": 20,
      "metadata": {
        "colab": {
          "base_uri": "https://localhost:8080/"
        },
        "id": "TCSBTpUy93r-",
        "outputId": "e96ed88d-cab0-4c48-824d-5e210185f803"
      },
      "outputs": [
        {
          "name": "stdout",
          "output_type": "stream",
          "text": [
            "==> Evaluating ...\n",
            "train  auc: 0.839  acc:0.661\n",
            "test  auc: 0.788  acc:0.654\n"
          ]
        }
      ],
      "source": [
        "# evaluation\n",
        "\n",
        "def test(split):\n",
        "    model.eval()\n",
        "    y_true = torch.tensor([])\n",
        "    y_score = torch.tensor([])\n",
        "    \n",
        "    data_loader = train_loader_at_eval if split == 'train' else test_loader\n",
        "\n",
        "    with torch.no_grad():\n",
        "        for inputs, targets in data_loader:\n",
        "            # inputs, targets = inputs.cuda(), targets.cuda()\n",
        "            outputs = model(inputs)\n",
        "\n",
        "            if task == 'multi-label, binary-class':\n",
        "                targets = targets.to(torch.float32)\n",
        "                outputs = outputs.softmax(dim=-1)\n",
        "            else:\n",
        "                targets = targets.squeeze().long()\n",
        "                outputs = outputs.softmax(dim=-1)\n",
        "                targets = targets.float().resize_(len(targets), 1)\n",
        "\n",
        "            y_true = torch.cat((y_true, targets), 0)\n",
        "            y_score = torch.cat((y_score, outputs), 0)\n",
        "\n",
        "        y_true = y_true.cpu().numpy()\n",
        "        y_score = y_score.detach().cpu().numpy()\n",
        "        \n",
        "        evaluator = Evaluator(data_flag, split)\n",
        "        metrics = evaluator.evaluate(y_score)\n",
        "    \n",
        "        print('%s  auc: %.3f  acc:%.3f' % (split, *metrics))\n",
        "\n",
        "        \n",
        "print('==> Evaluating ...')\n",
        "test('train')\n",
        "test('test')"
      ]
    },
    {
      "cell_type": "code",
      "execution_count": null,
      "metadata": {},
      "outputs": [],
      "source": []
    }
  ],
  "metadata": {
    "accelerator": "GPU",
    "colab": {
      "gpuType": "T4",
      "provenance": []
    },
    "gpuClass": "standard",
    "kernelspec": {
      "display_name": "Python 3",
      "name": "python3"
    },
    "language_info": {
      "codemirror_mode": {
        "name": "ipython",
        "version": 3
      },
      "file_extension": ".py",
      "mimetype": "text/x-python",
      "name": "python",
      "nbconvert_exporter": "python",
      "pygments_lexer": "ipython3",
      "version": "3.12.5"
    }
  },
  "nbformat": 4,
  "nbformat_minor": 0
}
