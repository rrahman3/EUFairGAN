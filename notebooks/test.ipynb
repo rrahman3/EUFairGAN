{
 "cells": [
  {
   "cell_type": "code",
   "execution_count": 22,
   "metadata": {},
   "outputs": [],
   "source": [
    "import numpy as np\n",
    "from scipy.special import softmax"
   ]
  },
  {
   "cell_type": "code",
   "execution_count": 94,
   "metadata": {},
   "outputs": [],
   "source": [
    "a = np.array([[-1.45175124,  2.54659562, -1.57316403]])\n",
    "a = np.array([[-0.63483063,  0.73849625, -0.19395639]])\n",
    "a = np.array([[-1.58292796,  0.29200524,  0.86723179]])\n"
   ]
  },
  {
   "cell_type": "code",
   "execution_count": 84,
   "metadata": {},
   "outputs": [],
   "source": [
    "x = np.array([[1, 0.5, 0.2, 3],\n",
    "[1,  -1,   7, 3],\n",
    "[2,  12,  13, 3]\n",
    "])"
   ]
  },
  {
   "cell_type": "code",
   "execution_count": 93,
   "metadata": {},
   "outputs": [
    {
     "name": "stdout",
     "output_type": "stream",
     "text": [
      "[[1.05877070e-01 6.42176889e-02 4.75736340e-02 7.82331607e-01]\n",
      " [2.42746030e-03 3.28521027e-04 9.79307378e-01 1.79366403e-02]\n",
      " [1.22093673e-05 2.68929212e-01 7.31025390e-01 3.31885014e-05]]\n"
     ]
    },
    {
     "data": {
      "text/plain": [
       "1.0"
      ]
     },
     "execution_count": 93,
     "metadata": {},
     "output_type": "execute_result"
    }
   ],
   "source": [
    "sx = softmax(x, axis=1)\n",
    "print(sx)\n",
    "np.sum(sx[0])"
   ]
  },
  {
   "cell_type": "code",
   "execution_count": 89,
   "metadata": {},
   "outputs": [
    {
     "data": {
      "text/plain": [
       "array([1., 1., 1.])"
      ]
     },
     "execution_count": 89,
     "metadata": {},
     "output_type": "execute_result"
    }
   ],
   "source": [
    "np.sum(sx, axis=1)"
   ]
  },
  {
   "cell_type": "code",
   "execution_count": 95,
   "metadata": {},
   "outputs": [
    {
     "data": {
      "text/plain": [
       "array([[0.05232703, 0.34119231, 0.60648066]])"
      ]
     },
     "execution_count": 95,
     "metadata": {},
     "output_type": "execute_result"
    }
   ],
   "source": [
    "s = softmax(a, axis=1)\n",
    "s"
   ]
  },
  {
   "cell_type": "code",
   "execution_count": 25,
   "metadata": {},
   "outputs": [],
   "source": [
    "epsilon = 0.0000001\n",
    "def predictive_entropy(prob):\n",
    "    return -1 * np.sum(np.log(prob+epsilon) * (prob)) # entropy of class distribution"
   ]
  },
  {
   "cell_type": "code",
   "execution_count": 98,
   "metadata": {},
   "outputs": [
    {
     "name": "stdout",
     "output_type": "stream",
     "text": [
      "-0.15437731502601945\n",
      "-0.3668870624404453\n",
      "-0.3032902293880359\n"
     ]
    }
   ],
   "source": [
    "for __ in s[0]:\n",
    "    print(__*np.log(__+epsilon))"
   ]
  },
  {
   "cell_type": "code",
   "execution_count": 48,
   "metadata": {},
   "outputs": [
    {
     "name": "stdout",
     "output_type": "stream",
     "text": [
      "-0.00018914126151198355\n",
      "-0.006554491967580408\n",
      "-0.00016936049179716868\n"
     ]
    }
   ],
   "source": [
    "a = [[4.89804053e-05, 3.42872717e-04, 5.91209555e-05]]\n",
    "a =  [[1.72548332e-05, 9.40525873e-04, 1.52820586e-05]]\n",
    "for __ in a[0]:\n",
    "    print(__*np.log(__+epsilon))\n"
   ]
  },
  {
   "cell_type": "code",
   "execution_count": 112,
   "metadata": {},
   "outputs": [
    {
     "data": {
      "text/plain": [
       "array([0.22353506, 0.35759097])"
      ]
     },
     "execution_count": 112,
     "metadata": {},
     "output_type": "execute_result"
    }
   ],
   "source": [
    "s = [[0.04, 0.01, 0.95],\n",
    "     [0.09,0.90,0.01]]\n",
    "np.apply_along_axis(predictive_entropy, axis=1, arr=s)\n"
   ]
  },
  {
   "cell_type": "code",
   "execution_count": 116,
   "metadata": {},
   "outputs": [
    {
     "data": {
      "text/plain": [
       "array([2, 1], dtype=int64)"
      ]
     },
     "execution_count": 116,
     "metadata": {},
     "output_type": "execute_result"
    }
   ],
   "source": [
    "np.argmax(s, axis=1)"
   ]
  },
  {
   "cell_type": "code",
   "execution_count": 31,
   "metadata": {},
   "outputs": [
    {
     "data": {
      "text/plain": [
       "0.0210685931633116"
      ]
     },
     "execution_count": 31,
     "metadata": {},
     "output_type": "execute_result"
    }
   ],
   "source": [
    "predictive_entropy(a)"
   ]
  },
  {
   "cell_type": "code",
   "execution_count": null,
   "metadata": {},
   "outputs": [],
   "source": []
  }
 ],
 "metadata": {
  "kernelspec": {
   "display_name": "Python 3",
   "language": "python",
   "name": "python3"
  },
  "language_info": {
   "codemirror_mode": {
    "name": "ipython",
    "version": 3
   },
   "file_extension": ".py",
   "mimetype": "text/x-python",
   "name": "python",
   "nbconvert_exporter": "python",
   "pygments_lexer": "ipython3",
   "version": "3.12.5"
  }
 },
 "nbformat": 4,
 "nbformat_minor": 2
}
